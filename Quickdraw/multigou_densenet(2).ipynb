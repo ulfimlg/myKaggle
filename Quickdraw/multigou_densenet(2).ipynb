{
 "cells": [
  {
   "cell_type": "markdown",
   "metadata": {
    "_cell_guid": "79c7e3d0-c299-4dcb-8224-4455121ee9b0",
    "_uuid": "d629ff2d2480ee46fbb7e2d37f6b5fab8052498a"
   },
   "source": [
    "# Keras MobileNet Benchmark\n",
    "\n",
    "In a previous benchmark we used a simple three layer ConvNet. This time we use a deeper MobileNet architecture on greyscale strokes. \n",
    "\n",
    "This kernel has three main components:\n",
    "\n",
    "* MobileNet\n",
    "* Fast and memory efficient Image Generator with temporal colored strokes\n",
    "* Full training & submission with Kaggle Kernel\n",
    "\n",
    "I did some paramer search but it should not be hard to improve the current score."
   ]
  },
  {
   "cell_type": "markdown",
   "metadata": {
    "_uuid": "f7f2a9516140a84124bf7bbf538ee4c30860b778"
   },
   "source": [
    "## Setup\n",
    "Import the necessary libraries and a few helper functions."
   ]
  },
  {
   "cell_type": "code",
   "execution_count": 1,
   "metadata": {
    "_kg_hide-input": true,
    "_uuid": "ce6d2aa7de1fa341144def7d3a5b1ffdea26bc91"
   },
   "outputs": [
    {
     "name": "stderr",
     "output_type": "stream",
     "text": [
      "Using TensorFlow backend.\n"
     ]
    }
   ],
   "source": [
    "%matplotlib inline\n",
    "from IPython.core.interactiveshell import InteractiveShell\n",
    "InteractiveShell.ast_node_interactivity = \"all\"\n",
    "import os\n",
    "import ast\n",
    "import datetime as dt\n",
    "import matplotlib.pyplot as plt\n",
    "plt.rcParams['figure.figsize'] = [16, 10]\n",
    "plt.rcParams['font.size'] = 14\n",
    "import seaborn as sns\n",
    "import cv2\n",
    "import pandas as pd\n",
    "import numpy as np\n",
    "import tensorflow as tf\n",
    "from tensorflow import keras\n",
    "from keras.layers import Conv2D, MaxPooling2D\n",
    "from keras.layers import Dense, Dropout, Flatten, Activation\n",
    "from keras.metrics import categorical_accuracy, top_k_categorical_accuracy, categorical_crossentropy\n",
    "from keras.models import Sequential\n",
    "from keras.callbacks import EarlyStopping, ReduceLROnPlateau, ModelCheckpoint\n",
    "from keras.optimizers import Adam\n",
    "from keras.applications import DenseNet121\n",
    "from keras.applications import MobileNet\n",
    "from keras.applications.mobilenet import preprocess_input\n",
    "from keras.utils.training_utils import multi_gpu_model\n",
    "start = dt.datetime.now()"
   ]
  },
  {
   "cell_type": "code",
   "execution_count": 2,
   "metadata": {},
   "outputs": [
    {
     "name": "stdout",
     "output_type": "stream",
     "text": [
      "Tue Nov  6 03:38:47 2018       \n",
      "+-----------------------------------------------------------------------------+\n",
      "| NVIDIA-SMI 410.48                 Driver Version: 410.48                    |\n",
      "|-------------------------------+----------------------+----------------------+\n",
      "| GPU  Name        Persistence-M| Bus-Id        Disp.A | Volatile Uncorr. ECC |\n",
      "| Fan  Temp  Perf  Pwr:Usage/Cap|         Memory-Usage | GPU-Util  Compute M. |\n",
      "|===============================+======================+======================|\n",
      "|   0  Tesla V100-SXM2...  Off  | 00000000:00:04.0 Off |                    0 |\n",
      "| N/A   40C    P0    55W / 300W |      0MiB / 16130MiB |      0%      Default |\n",
      "+-------------------------------+----------------------+----------------------+\n",
      "|   1  Tesla V100-SXM2...  Off  | 00000000:00:05.0 Off |                    0 |\n",
      "| N/A   39C    P0    44W / 300W |      0MiB / 16130MiB |      0%      Default |\n",
      "+-------------------------------+----------------------+----------------------+\n",
      "|   2  Tesla V100-SXM2...  Off  | 00000000:00:06.0 Off |                    0 |\n",
      "| N/A   42C    P0    55W / 300W |      0MiB / 16130MiB |      0%      Default |\n",
      "+-------------------------------+----------------------+----------------------+\n",
      "|   3  Tesla V100-SXM2...  Off  | 00000000:00:07.0 Off |                    0 |\n",
      "| N/A   41C    P0    44W / 300W |      0MiB / 16130MiB |      0%      Default |\n",
      "+-------------------------------+----------------------+----------------------+\n",
      "                                                                               \n",
      "+-----------------------------------------------------------------------------+\n",
      "| Processes:                                                       GPU Memory |\n",
      "|  GPU       PID   Type   Process name                             Usage      |\n",
      "|=============================================================================|\n",
      "|  No running processes found                                                 |\n",
      "+-----------------------------------------------------------------------------+\n"
     ]
    }
   ],
   "source": [
    "!nvidia-smi"
   ]
  },
  {
   "cell_type": "code",
   "execution_count": 3,
   "metadata": {
    "_kg_hide-input": true,
    "_uuid": "978b1e827e598c53df3ef09838a6d85591d83052"
   },
   "outputs": [],
   "source": [
    "DP_DIR = ''\n",
    "INPUT_DIR = 'data/'\n",
    "\n",
    "BASE_SIZE = 256\n",
    "NCSVS = 100\n",
    "NCATS = 340\n",
    "np.random.seed(seed=1997)\n",
    "tf.set_random_seed(seed=1997)\n",
    "\n",
    "def f2cat(filename: str) -> str:\n",
    "    return filename.split('.')[0]\n",
    "\n",
    "def list_all_categories():\n",
    "    files = os.listdir(os.path.join(INPUT_DIR, 'train_simplified'))\n",
    "    return sorted([f2cat(f) for f in files], key=str.lower)"
   ]
  },
  {
   "cell_type": "code",
   "execution_count": 4,
   "metadata": {
    "_kg_hide-input": true,
    "_uuid": "b2fcd1a08ae1ae0619be38a113a244eb6515b63b"
   },
   "outputs": [],
   "source": [
    "def apk(actual, predicted, k=3):\n",
    "    \"\"\"\n",
    "    Source: https://github.com/benhamner/Metrics/blob/master/Python/ml_metrics/average_precision.py\n",
    "    \"\"\"\n",
    "    if len(predicted) > k:\n",
    "        predicted = predicted[:k]\n",
    "    score = 0.0\n",
    "    num_hits = 0.0\n",
    "    for i, p in enumerate(predicted):\n",
    "        if p in actual and p not in predicted[:i]:\n",
    "            num_hits += 1.0\n",
    "            score += num_hits / (i + 1.0)\n",
    "    if not actual:\n",
    "        return 0.0\n",
    "    return score / min(len(actual), k)\n",
    "\n",
    "def mapk(actual, predicted, k=3):\n",
    "    \"\"\"\n",
    "    Source: https://github.com/benhamner/Metrics/blob/master/Python/ml_metrics/average_precision.py\n",
    "    \"\"\"\n",
    "    return np.mean([apk(a, p, k) for a, p in zip(actual, predicted)])\n",
    "\n",
    "def preds2catids(predictions):\n",
    "    return pd.DataFrame(np.argsort(-predictions, axis=1)[:, :3], columns=['a', 'b', 'c'])\n",
    "\n",
    "def top_3_accuracy(y_true, y_pred):\n",
    "    return top_k_categorical_accuracy(y_true, y_pred, k=3)"
   ]
  },
  {
   "cell_type": "markdown",
   "metadata": {
    "_uuid": "264156422a95e4b350886d558d516ae8bd2e25c0"
   },
   "source": [
    "## MobileNet\n",
    "\n",
    "MobileNets are based on a streamlined architecture that uses depthwise separable convolutions to build light weight deep neural networks.\n",
    "\n",
    "[MobileNets: Efficient Convolutional Neural Networks for Mobile Vision Applications](https://arxiv.org/pdf/1704.04861.pdf)"
   ]
  },
  {
   "cell_type": "code",
   "execution_count": 5,
   "metadata": {
    "_uuid": "54e5f0c637195b6624e2f3e6db5e7f8990e14eb7"
   },
   "outputs": [],
   "source": [
    "STEPS = 300\n",
    "EPOCHS = 15\n",
    "size = 64+64\n",
    "batchsize = 128*4"
   ]
  },
  {
   "cell_type": "code",
   "execution_count": 6,
   "metadata": {
    "_kg_hide-output": true,
    "_uuid": "0860ec35bee03f0c5cd21202dc7471c2d201cf5f",
    "scrolled": false
   },
   "outputs": [],
   "source": [
    "#model = DenseNet121(input_shape=(size, size, 1), weights=None, classes=NCATS)\n",
    "#model.compile(optimizer=Adam(lr=0.0025), loss='categorical_crossentropy',\n",
    "#              metrics=[categorical_crossentropy, categorical_accuracy, top_3_accuracy])\n",
    "#print(model.summary())"
   ]
  },
  {
   "cell_type": "code",
   "execution_count": 7,
   "metadata": {},
   "outputs": [
    {
     "name": "stdout",
     "output_type": "stream",
     "text": [
      "[INFO] training with 4 GPUs...\n"
     ]
    }
   ],
   "source": [
    "G=4\n",
    "if G <= 1:\n",
    "    print(\"[INFO] training with 1 GPU...\")\n",
    "    model = DenseNet121(input_shape=(size, size, 1), weights=None, classes=NCATS)\n",
    "# otherwise, we are compiling using multiple GPUs\n",
    "else:\n",
    "    print(\"[INFO] training with {} GPUs...\".format(G))\n",
    "\n",
    "    # we'll store a copy of the model on *every* GPU and then combine\n",
    "    # the results from the gradient updates on the CPU\n",
    "    with tf.device(\"/cpu:0\"):\n",
    "        # initialize the model\n",
    "        modell = DenseNet121(input_shape=(size, size, 1), weights=None, classes=NCATS)\n",
    "    # make the model parallel\n",
    "    model = multi_gpu_model(modell, gpus=G)\n",
    "model.compile(optimizer=Adam(lr=0.0025), loss='categorical_crossentropy',\n",
    "              metrics=[categorical_crossentropy, categorical_accuracy, top_3_accuracy])"
   ]
  },
  {
   "cell_type": "markdown",
   "metadata": {
    "_uuid": "ab1834ea2757a53d602a3508efffcc34bc190dc7"
   },
   "source": [
    "## Training with Image Generator"
   ]
  },
  {
   "cell_type": "code",
   "execution_count": 8,
   "metadata": {
    "_uuid": "f6455bf9555b8381b6a4292098a64a0eb7ff54dc"
   },
   "outputs": [],
   "source": [
    "def draw_cv2(raw_strokes, size=256, lw=6, time_color=True):\n",
    "    img = np.zeros((BASE_SIZE, BASE_SIZE), np.uint8)\n",
    "    for t, stroke in enumerate(raw_strokes):\n",
    "        for i in range(len(stroke[0]) - 1):\n",
    "            color = 255 - min(t, 10) * 13 if time_color else 255\n",
    "            _ = cv2.line(img, (stroke[0][i], stroke[1][i]),\n",
    "                         (stroke[0][i + 1], stroke[1][i + 1]), color, lw)\n",
    "    if size != BASE_SIZE:\n",
    "        return cv2.resize(img, (size, size))\n",
    "    else:\n",
    "        return img\n",
    "\n",
    "def image_generator_xd(size, batchsize, ks, lw=6, time_color=True):\n",
    "    while True:\n",
    "        for k in np.random.permutation(ks):\n",
    "            filename = os.path.join(DP_DIR, 'train_k{}.csv.gz'.format(k))\n",
    "            for df in pd.read_csv(filename, chunksize=batchsize):\n",
    "                df['drawing'] = df['drawing'].apply(ast.literal_eval)\n",
    "                x = np.zeros((len(df), size, size, 1))\n",
    "                for i, raw_strokes in enumerate(df.drawing.values):\n",
    "                    x[i, :, :, 0] = draw_cv2(raw_strokes, size=size, lw=lw,\n",
    "                                             time_color=time_color)\n",
    "                x = preprocess_input(x).astype(np.float32)\n",
    "                y = keras.utils.to_categorical(df.y, num_classes=NCATS)\n",
    "                yield x, y\n",
    "\n",
    "def df_to_image_array_xd(df, size, lw=6, time_color=True):\n",
    "    df['drawing'] = df['drawing'].apply(ast.literal_eval)\n",
    "    x = np.zeros((len(df), size, size, 1))\n",
    "    for i, raw_strokes in enumerate(df.drawing.values):\n",
    "        x[i, :, :, 0] = draw_cv2(raw_strokes, size=size, lw=lw, time_color=time_color)\n",
    "    x = preprocess_input(x).astype(np.float32)\n",
    "    return x"
   ]
  },
  {
   "cell_type": "code",
   "execution_count": 9,
   "metadata": {
    "_uuid": "98ff512e1a1b5e86e86d9eef4127525bedf3b9e1"
   },
   "outputs": [
    {
     "name": "stdout",
     "output_type": "stream",
     "text": [
      "(70000, 128, 128, 1) (70000, 340)\n",
      "Validation array memory 4.27 GB\n"
     ]
    }
   ],
   "source": [
    "valid_df = pd.read_csv(os.path.join(DP_DIR, 'train_k{}.csv.gz'.format(NCSVS - 1)), nrows=70000)\n",
    "x_valid = df_to_image_array_xd(valid_df, size)\n",
    "y_valid = keras.utils.to_categorical(valid_df.y, num_classes=NCATS)\n",
    "print(x_valid.shape, y_valid.shape)\n",
    "print('Validation array memory {:.2f} GB'.format(x_valid.nbytes / 1024.**3 ))"
   ]
  },
  {
   "cell_type": "code",
   "execution_count": 10,
   "metadata": {
    "_uuid": "d80ad7f4d378ea7f30479221d604eeeed559cae4"
   },
   "outputs": [],
   "source": [
    "train_datagen = image_generator_xd(size=size, batchsize=batchsize, ks=range(NCSVS - 1))"
   ]
  },
  {
   "cell_type": "code",
   "execution_count": 11,
   "metadata": {
    "_uuid": "9ce5fb89fbb77777316d6fca7689b6636c0e6021"
   },
   "outputs": [
    {
     "data": {
      "text/plain": [
       "\"\\nx, y = next(train_datagen)\\nn = 8\\nfig, axs = plt.subplots(nrows=n, ncols=n, sharex=True, sharey=True, figsize=(12, 12))\\nfor i in range(n**2):\\n    ax = axs[i // n, i % n]\\n    (-x[i]+1)/2\\n    ax.imshow((-x[i, :, :, 0] + 1)/2, cmap=plt.cm.gray)\\n    ax.axis('off')\\nplt.tight_layout()\\nfig.savefig('gs.png', dpi=300)\\nplt.show();\\n\""
      ]
     },
     "execution_count": 11,
     "metadata": {},
     "output_type": "execute_result"
    }
   ],
   "source": [
    "\"\"\"\n",
    "x, y = next(train_datagen)\n",
    "n = 8\n",
    "fig, axs = plt.subplots(nrows=n, ncols=n, sharex=True, sharey=True, figsize=(12, 12))\n",
    "for i in range(n**2):\n",
    "    ax = axs[i // n, i % n]\n",
    "    (-x[i]+1)/2\n",
    "    ax.imshow((-x[i, :, :, 0] + 1)/2, cmap=plt.cm.gray)\n",
    "    ax.axis('off')\n",
    "plt.tight_layout()\n",
    "fig.savefig('gs.png', dpi=300)\n",
    "plt.show();\n",
    "\"\"\""
   ]
  },
  {
   "cell_type": "code",
   "execution_count": 12,
   "metadata": {},
   "outputs": [
    {
     "name": "stdout",
     "output_type": "stream",
     "text": [
      "Epoch 1/15\n",
      "1200/1200 [==============================] - 649s 541ms/step - loss: 1.9029 - categorical_crossentropy: 1.9029 - categorical_accuracy: 0.5495 - top_3_accuracy: 0.7398 - val_loss: 8.7767 - val_categorical_crossentropy: 8.7767 - val_categorical_accuracy: 0.0527 - val_top_3_accuracy: 0.0969\n",
      "Epoch 2/15\n",
      "1200/1200 [==============================] - 551s 459ms/step - loss: 1.2411 - categorical_crossentropy: 1.2411 - categorical_accuracy: 0.6888 - top_3_accuracy: 0.8597 - val_loss: 2.0690 - val_categorical_crossentropy: 2.0690 - val_categorical_accuracy: 0.4979 - val_top_3_accuracy: 0.7211\n",
      "Epoch 3/15\n",
      "1200/1200 [==============================] - 539s 449ms/step - loss: 1.1221 - categorical_crossentropy: 1.1221 - categorical_accuracy: 0.7162 - top_3_accuracy: 0.8780 - val_loss: 1.1936 - val_categorical_crossentropy: 1.1936 - val_categorical_accuracy: 0.6968 - val_top_3_accuracy: 0.8675\n",
      "Epoch 4/15\n",
      "1200/1200 [==============================] - 537s 447ms/step - loss: 1.0541 - categorical_crossentropy: 1.0541 - categorical_accuracy: 0.7319 - top_3_accuracy: 0.8871 - val_loss: 1.1132 - val_categorical_crossentropy: 1.1132 - val_categorical_accuracy: 0.7141 - val_top_3_accuracy: 0.8783\n",
      "Epoch 5/15\n",
      "1200/1200 [==============================] - 558s 465ms/step - loss: 1.0176 - categorical_crossentropy: 1.0176 - categorical_accuracy: 0.7409 - top_3_accuracy: 0.8928 - val_loss: 1.0859 - val_categorical_crossentropy: 1.0859 - val_categorical_accuracy: 0.7251 - val_top_3_accuracy: 0.8829\n",
      "Epoch 6/15\n",
      "1200/1200 [==============================] - 551s 459ms/step - loss: 0.9803 - categorical_crossentropy: 0.9803 - categorical_accuracy: 0.7496 - top_3_accuracy: 0.8977 - val_loss: 1.0108 - val_categorical_crossentropy: 1.0108 - val_categorical_accuracy: 0.7392 - val_top_3_accuracy: 0.8926\n",
      "Epoch 7/15\n",
      "1200/1200 [==============================] - 539s 449ms/step - loss: 0.9587 - categorical_crossentropy: 0.9587 - categorical_accuracy: 0.7543 - top_3_accuracy: 0.9007 - val_loss: 0.9850 - val_categorical_crossentropy: 0.9850 - val_categorical_accuracy: 0.7454 - val_top_3_accuracy: 0.8978\n",
      "Epoch 8/15\n",
      "1200/1200 [==============================] - 536s 446ms/step - loss: 0.9411 - categorical_crossentropy: 0.9411 - categorical_accuracy: 0.7592 - top_3_accuracy: 0.9029 - val_loss: 0.9544 - val_categorical_crossentropy: 0.9544 - val_categorical_accuracy: 0.7536 - val_top_3_accuracy: 0.9012\n",
      "Epoch 9/15\n",
      "1200/1200 [==============================] - 537s 448ms/step - loss: 0.9164 - categorical_crossentropy: 0.9164 - categorical_accuracy: 0.7645 - top_3_accuracy: 0.9062 - val_loss: 0.9452 - val_categorical_crossentropy: 0.9452 - val_categorical_accuracy: 0.7587 - val_top_3_accuracy: 0.9022\n",
      "Epoch 10/15\n",
      "1200/1200 [==============================] - 542s 452ms/step - loss: 0.9039 - categorical_crossentropy: 0.9039 - categorical_accuracy: 0.7678 - top_3_accuracy: 0.9080 - val_loss: 0.9024 - val_categorical_crossentropy: 0.9024 - val_categorical_accuracy: 0.7680 - val_top_3_accuracy: 0.9080\n",
      "Epoch 11/15\n",
      "1200/1200 [==============================] - 554s 462ms/step - loss: 0.8876 - categorical_crossentropy: 0.8876 - categorical_accuracy: 0.7710 - top_3_accuracy: 0.9104 - val_loss: 0.8988 - val_categorical_crossentropy: 0.8988 - val_categorical_accuracy: 0.7667 - val_top_3_accuracy: 0.9086\n",
      "Epoch 12/15\n",
      "1200/1200 [==============================] - 541s 451ms/step - loss: 0.8765 - categorical_crossentropy: 0.8765 - categorical_accuracy: 0.7738 - top_3_accuracy: 0.9117 - val_loss: 0.8755 - val_categorical_crossentropy: 0.8755 - val_categorical_accuracy: 0.7741 - val_top_3_accuracy: 0.9117\n",
      "Epoch 13/15\n",
      "1200/1200 [==============================] - 540s 450ms/step - loss: 0.8685 - categorical_crossentropy: 0.8685 - categorical_accuracy: 0.7764 - top_3_accuracy: 0.9127 - val_loss: 0.8703 - val_categorical_crossentropy: 0.8703 - val_categorical_accuracy: 0.7743 - val_top_3_accuracy: 0.9125\n",
      "Epoch 14/15\n",
      "1200/1200 [==============================] - 535s 446ms/step - loss: 0.8592 - categorical_crossentropy: 0.8592 - categorical_accuracy: 0.7791 - top_3_accuracy: 0.9138 - val_loss: 0.8905 - val_categorical_crossentropy: 0.8905 - val_categorical_accuracy: 0.7683 - val_top_3_accuracy: 0.9095\n",
      "\n",
      "Epoch 00014: ReduceLROnPlateau reducing learning rate to 0.0012499999720603228.\n",
      "Epoch 15/15\n",
      "1200/1200 [==============================] - 546s 455ms/step - loss: 0.8114 - categorical_crossentropy: 0.8114 - categorical_accuracy: 0.7912 - top_3_accuracy: 0.9198 - val_loss: 0.8049 - val_categorical_crossentropy: 0.8049 - val_categorical_accuracy: 0.7899 - val_top_3_accuracy: 0.9208\n"
     ]
    }
   ],
   "source": [
    "callbacks = [\n",
    "    ReduceLROnPlateau(monitor='val_categorical_accuracy', factor=0.5, patience=2,\n",
    "                      min_delta=0.005, mode='max', cooldown=3, verbose=1)\n",
    "]\n",
    "hists = []\n",
    "hist = model.fit_generator(\n",
    "    train_datagen,steps_per_epoch=STEPS*G, epochs=EPOCHS, verbose=1,\n",
    "    validation_data=(x_valid, y_valid),\n",
    "    callbacks = callbacks,\n",
    "    use_multiprocessing=True\n",
    ")\n",
    "hists.append(hist)"
   ]
  },
  {
   "cell_type": "code",
   "execution_count": 13,
   "metadata": {},
   "outputs": [
    {
     "name": "stdout",
     "output_type": "stream",
     "text": [
      "Tue Nov  6 05:58:32 2018       \n",
      "+-----------------------------------------------------------------------------+\n",
      "| NVIDIA-SMI 410.48                 Driver Version: 410.48                    |\n",
      "|-------------------------------+----------------------+----------------------+\n",
      "| GPU  Name        Persistence-M| Bus-Id        Disp.A | Volatile Uncorr. ECC |\n",
      "| Fan  Temp  Perf  Pwr:Usage/Cap|         Memory-Usage | GPU-Util  Compute M. |\n",
      "|===============================+======================+======================|\n",
      "|   0  Tesla V100-SXM2...  Off  | 00000000:00:04.0 Off |                    0 |\n",
      "| N/A   45C    P0    68W / 300W |  15660MiB / 16130MiB |      0%      Default |\n",
      "+-------------------------------+----------------------+----------------------+\n",
      "|   1  Tesla V100-SXM2...  Off  | 00000000:00:05.0 Off |                    0 |\n",
      "| N/A   44C    P0    55W / 300W |  15660MiB / 16130MiB |      0%      Default |\n",
      "+-------------------------------+----------------------+----------------------+\n",
      "|   2  Tesla V100-SXM2...  Off  | 00000000:00:06.0 Off |                    0 |\n",
      "| N/A   46C    P0    67W / 300W |  15660MiB / 16130MiB |      0%      Default |\n",
      "+-------------------------------+----------------------+----------------------+\n",
      "|   3  Tesla V100-SXM2...  Off  | 00000000:00:07.0 Off |                    0 |\n",
      "| N/A   45C    P0    56W / 300W |  15660MiB / 16130MiB |      0%      Default |\n",
      "+-------------------------------+----------------------+----------------------+\n",
      "                                                                               \n",
      "+-----------------------------------------------------------------------------+\n",
      "| Processes:                                                       GPU Memory |\n",
      "|  GPU       PID   Type   Process name                             Usage      |\n",
      "|=============================================================================|\n",
      "|    0      7732      C   /usr/bin/python3                           15649MiB |\n",
      "|    1      7732      C   /usr/bin/python3                           15649MiB |\n",
      "|    2      7732      C   /usr/bin/python3                           15649MiB |\n",
      "|    3      7732      C   /usr/bin/python3                           15649MiB |\n",
      "+-----------------------------------------------------------------------------+\n"
     ]
    }
   ],
   "source": [
    "!nvidia-smi"
   ]
  },
  {
   "cell_type": "code",
   "execution_count": 14,
   "metadata": {},
   "outputs": [],
   "source": [
    "savename=\"densenet121_one\"\n",
    "modell.save(savename+\".model\")\n",
    "modell.save(savename+\".h5\")"
   ]
  },
  {
   "cell_type": "code",
   "execution_count": 15,
   "metadata": {
    "_uuid": "da72d70fc1781e80427d45a80c07b3571dda0b36"
   },
   "outputs": [
    {
     "name": "stdout",
     "output_type": "stream",
     "text": [
      "Epoch 1/5\n",
      "300/300 [==============================] - 143s 476ms/step - loss: 0.8099 - categorical_crossentropy: 0.8099 - categorical_accuracy: 0.7915 - top_3_accuracy: 0.9201 - val_loss: 0.7978 - val_categorical_crossentropy: 0.7978 - val_categorical_accuracy: 0.7943 - val_top_3_accuracy: 0.9212\n",
      "Epoch 2/5\n",
      "300/300 [==============================] - 140s 466ms/step - loss: 0.8077 - categorical_crossentropy: 0.8077 - categorical_accuracy: 0.7914 - top_3_accuracy: 0.9197 - val_loss: 0.7967 - val_categorical_crossentropy: 0.7967 - val_categorical_accuracy: 0.7929 - val_top_3_accuracy: 0.9212\n",
      "Epoch 3/5\n",
      "300/300 [==============================] - 141s 470ms/step - loss: 0.8030 - categorical_crossentropy: 0.8030 - categorical_accuracy: 0.7916 - top_3_accuracy: 0.9212 - val_loss: 0.7946 - val_categorical_crossentropy: 0.7946 - val_categorical_accuracy: 0.7948 - val_top_3_accuracy: 0.9221\n",
      "Epoch 4/5\n",
      "300/300 [==============================] - 140s 466ms/step - loss: 0.7994 - categorical_crossentropy: 0.7994 - categorical_accuracy: 0.7944 - top_3_accuracy: 0.9213 - val_loss: 0.8012 - val_categorical_crossentropy: 0.8012 - val_categorical_accuracy: 0.7922 - val_top_3_accuracy: 0.9212\n",
      "Epoch 5/5\n",
      "300/300 [==============================] - 142s 472ms/step - loss: 0.7902 - categorical_crossentropy: 0.7902 - categorical_accuracy: 0.7953 - top_3_accuracy: 0.9232 - val_loss: 0.7904 - val_categorical_crossentropy: 0.7904 - val_categorical_accuracy: 0.7947 - val_top_3_accuracy: 0.9224\n",
      "\n",
      "Epoch 00005: ReduceLROnPlateau reducing learning rate to 0.0006249999860301614.\n"
     ]
    }
   ],
   "source": [
    "callbacks = [\n",
    "    ReduceLROnPlateau(monitor='val_categorical_accuracy', factor=0.5, patience=2,min_lr=0.00001,\n",
    "                      min_delta=0.0001, mode='max', cooldown=3, verbose=1)\n",
    "]\n",
    "hists = []\n",
    "hist = model.fit_generator(\n",
    "    train_datagen, steps_per_epoch=STEPS, epochs=EPOCHS-10, verbose=1,\n",
    "    validation_data=(x_valid, y_valid),\n",
    "    callbacks = callbacks\n",
    ")\n",
    "hists.append(hist)"
   ]
  },
  {
   "cell_type": "code",
   "execution_count": 16,
   "metadata": {},
   "outputs": [
    {
     "name": "stdout",
     "output_type": "stream",
     "text": [
      "Tue Nov  6 06:13:14 2018       \n",
      "+-----------------------------------------------------------------------------+\n",
      "| NVIDIA-SMI 410.48                 Driver Version: 410.48                    |\n",
      "|-------------------------------+----------------------+----------------------+\n",
      "| GPU  Name        Persistence-M| Bus-Id        Disp.A | Volatile Uncorr. ECC |\n",
      "| Fan  Temp  Perf  Pwr:Usage/Cap|         Memory-Usage | GPU-Util  Compute M. |\n",
      "|===============================+======================+======================|\n",
      "|   0  Tesla V100-SXM2...  Off  | 00000000:00:04.0 Off |                    0 |\n",
      "| N/A   44C    P0    68W / 300W |  15660MiB / 16130MiB |      0%      Default |\n",
      "+-------------------------------+----------------------+----------------------+\n",
      "|   1  Tesla V100-SXM2...  Off  | 00000000:00:05.0 Off |                    0 |\n",
      "| N/A   44C    P0    55W / 300W |  15660MiB / 16130MiB |      0%      Default |\n",
      "+-------------------------------+----------------------+----------------------+\n",
      "|   2  Tesla V100-SXM2...  Off  | 00000000:00:06.0 Off |                    0 |\n",
      "| N/A   46C    P0    67W / 300W |  15660MiB / 16130MiB |      0%      Default |\n",
      "+-------------------------------+----------------------+----------------------+\n",
      "|   3  Tesla V100-SXM2...  Off  | 00000000:00:07.0 Off |                    0 |\n",
      "| N/A   45C    P0    56W / 300W |  15660MiB / 16130MiB |      0%      Default |\n",
      "+-------------------------------+----------------------+----------------------+\n",
      "                                                                               \n",
      "+-----------------------------------------------------------------------------+\n",
      "| Processes:                                                       GPU Memory |\n",
      "|  GPU       PID   Type   Process name                             Usage      |\n",
      "|=============================================================================|\n",
      "|    0      7732      C   /usr/bin/python3                           15649MiB |\n",
      "|    1      7732      C   /usr/bin/python3                           15649MiB |\n",
      "|    2      7732      C   /usr/bin/python3                           15649MiB |\n",
      "|    3      7732      C   /usr/bin/python3                           15649MiB |\n",
      "+-----------------------------------------------------------------------------+\n"
     ]
    }
   ],
   "source": [
    "!nvidia-smi"
   ]
  },
  {
   "cell_type": "code",
   "execution_count": null,
   "metadata": {
    "_kg_hide-input": true,
    "_kg_hide-output": true,
    "_uuid": "ada344bf3454765298e7b7ed7861c82bca2d2084"
   },
   "outputs": [
    {
     "name": "stdout",
     "output_type": "stream",
     "text": [
      "Epoch 1/15\n",
      "1200/1200 [==============================] - 501s 418ms/step - loss: 0.7702 - categorical_crossentropy: 0.7702 - categorical_accuracy: 0.8015 - top_3_accuracy: 0.9244 - val_loss: 0.7611 - val_categorical_crossentropy: 0.7611 - val_categorical_accuracy: 0.8020 - val_top_3_accuracy: 0.9253\n",
      "Epoch 2/15\n",
      "1200/1200 [==============================] - 500s 417ms/step - loss: 0.7600 - categorical_crossentropy: 0.7600 - categorical_accuracy: 0.8029 - top_3_accuracy: 0.9260 - val_loss: 0.7564 - val_categorical_crossentropy: 0.7564 - val_categorical_accuracy: 0.8032 - val_top_3_accuracy: 0.9265\n",
      "Epoch 3/15\n",
      "1200/1200 [==============================] - 502s 418ms/step - loss: 0.7537 - categorical_crossentropy: 0.7537 - categorical_accuracy: 0.8044 - top_3_accuracy: 0.9268 - val_loss: 0.7537 - val_categorical_crossentropy: 0.7537 - val_categorical_accuracy: 0.8041 - val_top_3_accuracy: 0.9265\n",
      "Epoch 4/15\n",
      "1200/1200 [==============================] - 500s 417ms/step - loss: 0.7479 - categorical_crossentropy: 0.7479 - categorical_accuracy: 0.8062 - top_3_accuracy: 0.9271 - val_loss: 0.7551 - val_categorical_crossentropy: 0.7551 - val_categorical_accuracy: 0.8031 - val_top_3_accuracy: 0.9269\n",
      "Epoch 5/15\n",
      "1200/1200 [==============================] - 501s 418ms/step - loss: 0.7440 - categorical_crossentropy: 0.7440 - categorical_accuracy: 0.8075 - top_3_accuracy: 0.9280 - val_loss: 0.7487 - val_categorical_crossentropy: 0.7487 - val_categorical_accuracy: 0.8066 - val_top_3_accuracy: 0.9277\n",
      "Epoch 6/15\n",
      "1200/1200 [==============================] - 502s 418ms/step - loss: 0.7384 - categorical_crossentropy: 0.7384 - categorical_accuracy: 0.8081 - top_3_accuracy: 0.9289 - val_loss: 0.7517 - val_categorical_crossentropy: 0.7517 - val_categorical_accuracy: 0.8036 - val_top_3_accuracy: 0.9271\n",
      "Epoch 7/15\n",
      "1200/1200 [==============================] - 501s 418ms/step - loss: 0.7304 - categorical_crossentropy: 0.7304 - categorical_accuracy: 0.8101 - top_3_accuracy: 0.9300 - val_loss: 0.7451 - val_categorical_crossentropy: 0.7451 - val_categorical_accuracy: 0.8073 - val_top_3_accuracy: 0.9283\n",
      "Epoch 8/15\n",
      "1200/1200 [==============================] - 502s 418ms/step - loss: 0.7217 - categorical_crossentropy: 0.7217 - categorical_accuracy: 0.8126 - top_3_accuracy: 0.9305 - val_loss: 0.7469 - val_categorical_crossentropy: 0.7469 - val_categorical_accuracy: 0.8050 - val_top_3_accuracy: 0.9278\n",
      "Epoch 9/15\n",
      "1200/1200 [==============================] - 501s 417ms/step - loss: 0.7142 - categorical_crossentropy: 0.7142 - categorical_accuracy: 0.8130 - top_3_accuracy: 0.9318 - val_loss: 0.7445 - val_categorical_crossentropy: 0.7445 - val_categorical_accuracy: 0.8068 - val_top_3_accuracy: 0.9273\n",
      "\n",
      "Epoch 00009: ReduceLROnPlateau reducing learning rate to 0.0003124999930150807.\n",
      "Epoch 10/15\n",
      "1200/1200 [==============================] - 502s 419ms/step - loss: 0.7014 - categorical_crossentropy: 0.7014 - categorical_accuracy: 0.8168 - top_3_accuracy: 0.9334 - val_loss: 0.7299 - val_categorical_crossentropy: 0.7299 - val_categorical_accuracy: 0.8108 - val_top_3_accuracy: 0.9303\n",
      "Epoch 11/15\n",
      " 139/1200 [==>...........................] - ETA: 6:58 - loss: 0.6851 - categorical_crossentropy: 0.6851 - categorical_accuracy: 0.8198 - top_3_accuracy: 0.9339"
     ]
    }
   ],
   "source": [
    "callbacks = [\n",
    "    ReduceLROnPlateau(monitor='val_categorical_accuracy', factor=0.5, patience=2,\n",
    "                      min_lr=0.00001, mode='max', cooldown=3, verbose=1)\n",
    "]\n",
    "hist = model.fit_generator(\n",
    "    train_datagen, steps_per_epoch=STEPS*G, epochs=EPOCHS, verbose=1,\n",
    "    validation_data=(x_valid, y_valid),\n",
    "    callbacks = callbacks\n",
    ")\n",
    "hists.append(hist)"
   ]
  },
  {
   "cell_type": "code",
   "execution_count": null,
   "metadata": {},
   "outputs": [],
   "source": [
    "savename=\"densenet121_two\"\n",
    "modell.save(savename+\".model\")\n",
    "modell.save(savename+\".h5\")\n"
   ]
  },
  {
   "cell_type": "code",
   "execution_count": null,
   "metadata": {
    "_kg_hide-input": true,
    "_kg_hide-output": true,
    "_uuid": "4a3a0cfef0d984d5b02872617e0eb2ad8a791964"
   },
   "outputs": [],
   "source": [
    "\n",
    "hist = model.fit_generator(\n",
    "    train_datagen, steps_per_epoch=STEPS, epochs=EPOCHS, verbose=1,\n",
    "    validation_data=(x_valid, y_valid),\n",
    "    callbacks = callbacks\n",
    ")\n",
    "hists.append(hist)"
   ]
  },
  {
   "cell_type": "code",
   "execution_count": 16,
   "metadata": {
    "_uuid": "05767778d356bc63b7cded355159fd4082eee1a5"
   },
   "outputs": [
    {
     "ename": "ValueError",
     "evalue": "No objects to concatenate",
     "output_type": "error",
     "traceback": [
      "\u001b[0;31m---------------------------------------------------------------------------\u001b[0m",
      "\u001b[0;31mValueError\u001b[0m                                Traceback (most recent call last)",
      "\u001b[0;32m<ipython-input-16-00016fb5dd8b>\u001b[0m in \u001b[0;36m<module>\u001b[0;34m\u001b[0m\n\u001b[0;32m----> 1\u001b[0;31m \u001b[0mhist_df\u001b[0m \u001b[0;34m=\u001b[0m \u001b[0mpd\u001b[0m\u001b[0;34m.\u001b[0m\u001b[0mconcat\u001b[0m\u001b[0;34m(\u001b[0m\u001b[0;34m[\u001b[0m\u001b[0mpd\u001b[0m\u001b[0;34m.\u001b[0m\u001b[0mDataFrame\u001b[0m\u001b[0;34m(\u001b[0m\u001b[0mhist\u001b[0m\u001b[0;34m.\u001b[0m\u001b[0mhistory\u001b[0m\u001b[0;34m)\u001b[0m \u001b[0;32mfor\u001b[0m \u001b[0mhist\u001b[0m \u001b[0;32min\u001b[0m \u001b[0mhists\u001b[0m\u001b[0;34m]\u001b[0m\u001b[0;34m,\u001b[0m \u001b[0msort\u001b[0m\u001b[0;34m=\u001b[0m\u001b[0;32mTrue\u001b[0m\u001b[0;34m)\u001b[0m\u001b[0;34m\u001b[0m\u001b[0m\n\u001b[0m\u001b[1;32m      2\u001b[0m \u001b[0mhist_df\u001b[0m\u001b[0;34m.\u001b[0m\u001b[0mindex\u001b[0m \u001b[0;34m=\u001b[0m \u001b[0mnp\u001b[0m\u001b[0;34m.\u001b[0m\u001b[0marange\u001b[0m\u001b[0;34m(\u001b[0m\u001b[0;36m1\u001b[0m\u001b[0;34m,\u001b[0m \u001b[0mlen\u001b[0m\u001b[0;34m(\u001b[0m\u001b[0mhist_df\u001b[0m\u001b[0;34m)\u001b[0m\u001b[0;34m+\u001b[0m\u001b[0;36m1\u001b[0m\u001b[0;34m)\u001b[0m\u001b[0;34m\u001b[0m\u001b[0m\n\u001b[1;32m      3\u001b[0m \u001b[0mfig\u001b[0m\u001b[0;34m,\u001b[0m \u001b[0maxs\u001b[0m \u001b[0;34m=\u001b[0m \u001b[0mplt\u001b[0m\u001b[0;34m.\u001b[0m\u001b[0msubplots\u001b[0m\u001b[0;34m(\u001b[0m\u001b[0mnrows\u001b[0m\u001b[0;34m=\u001b[0m\u001b[0;36m2\u001b[0m\u001b[0;34m,\u001b[0m \u001b[0msharex\u001b[0m\u001b[0;34m=\u001b[0m\u001b[0;32mTrue\u001b[0m\u001b[0;34m,\u001b[0m \u001b[0mfigsize\u001b[0m\u001b[0;34m=\u001b[0m\u001b[0;34m(\u001b[0m\u001b[0;36m16\u001b[0m\u001b[0;34m,\u001b[0m \u001b[0;36m10\u001b[0m\u001b[0;34m)\u001b[0m\u001b[0;34m)\u001b[0m\u001b[0;34m\u001b[0m\u001b[0m\n\u001b[1;32m      4\u001b[0m \u001b[0maxs\u001b[0m\u001b[0;34m[\u001b[0m\u001b[0;36m0\u001b[0m\u001b[0;34m]\u001b[0m\u001b[0;34m.\u001b[0m\u001b[0mplot\u001b[0m\u001b[0;34m(\u001b[0m\u001b[0mhist_df\u001b[0m\u001b[0;34m.\u001b[0m\u001b[0mval_categorical_accuracy\u001b[0m\u001b[0;34m,\u001b[0m \u001b[0mlw\u001b[0m\u001b[0;34m=\u001b[0m\u001b[0;36m5\u001b[0m\u001b[0;34m,\u001b[0m \u001b[0mlabel\u001b[0m\u001b[0;34m=\u001b[0m\u001b[0;34m'Validation Accuracy'\u001b[0m\u001b[0;34m)\u001b[0m\u001b[0;34m\u001b[0m\u001b[0m\n\u001b[1;32m      5\u001b[0m \u001b[0maxs\u001b[0m\u001b[0;34m[\u001b[0m\u001b[0;36m0\u001b[0m\u001b[0;34m]\u001b[0m\u001b[0;34m.\u001b[0m\u001b[0mplot\u001b[0m\u001b[0;34m(\u001b[0m\u001b[0mhist_df\u001b[0m\u001b[0;34m.\u001b[0m\u001b[0mcategorical_accuracy\u001b[0m\u001b[0;34m,\u001b[0m \u001b[0mlw\u001b[0m\u001b[0;34m=\u001b[0m\u001b[0;36m5\u001b[0m\u001b[0;34m,\u001b[0m \u001b[0mlabel\u001b[0m\u001b[0;34m=\u001b[0m\u001b[0;34m'Training Accuracy'\u001b[0m\u001b[0;34m)\u001b[0m\u001b[0;34m\u001b[0m\u001b[0m\n",
      "\u001b[0;32m/usr/local/lib/python3.5/dist-packages/pandas/core/reshape/concat.py\u001b[0m in \u001b[0;36mconcat\u001b[0;34m(objs, axis, join, join_axes, ignore_index, keys, levels, names, verify_integrity, sort, copy)\u001b[0m\n\u001b[1;32m    223\u001b[0m                        \u001b[0mkeys\u001b[0m\u001b[0;34m=\u001b[0m\u001b[0mkeys\u001b[0m\u001b[0;34m,\u001b[0m \u001b[0mlevels\u001b[0m\u001b[0;34m=\u001b[0m\u001b[0mlevels\u001b[0m\u001b[0;34m,\u001b[0m \u001b[0mnames\u001b[0m\u001b[0;34m=\u001b[0m\u001b[0mnames\u001b[0m\u001b[0;34m,\u001b[0m\u001b[0;34m\u001b[0m\u001b[0m\n\u001b[1;32m    224\u001b[0m                        \u001b[0mverify_integrity\u001b[0m\u001b[0;34m=\u001b[0m\u001b[0mverify_integrity\u001b[0m\u001b[0;34m,\u001b[0m\u001b[0;34m\u001b[0m\u001b[0m\n\u001b[0;32m--> 225\u001b[0;31m                        copy=copy, sort=sort)\n\u001b[0m\u001b[1;32m    226\u001b[0m     \u001b[0;32mreturn\u001b[0m \u001b[0mop\u001b[0m\u001b[0;34m.\u001b[0m\u001b[0mget_result\u001b[0m\u001b[0;34m(\u001b[0m\u001b[0;34m)\u001b[0m\u001b[0;34m\u001b[0m\u001b[0m\n\u001b[1;32m    227\u001b[0m \u001b[0;34m\u001b[0m\u001b[0m\n",
      "\u001b[0;32m/usr/local/lib/python3.5/dist-packages/pandas/core/reshape/concat.py\u001b[0m in \u001b[0;36m__init__\u001b[0;34m(self, objs, axis, join, join_axes, keys, levels, names, ignore_index, verify_integrity, copy, sort)\u001b[0m\n\u001b[1;32m    257\u001b[0m \u001b[0;34m\u001b[0m\u001b[0m\n\u001b[1;32m    258\u001b[0m         \u001b[0;32mif\u001b[0m \u001b[0mlen\u001b[0m\u001b[0;34m(\u001b[0m\u001b[0mobjs\u001b[0m\u001b[0;34m)\u001b[0m \u001b[0;34m==\u001b[0m \u001b[0;36m0\u001b[0m\u001b[0;34m:\u001b[0m\u001b[0;34m\u001b[0m\u001b[0m\n\u001b[0;32m--> 259\u001b[0;31m             \u001b[0;32mraise\u001b[0m \u001b[0mValueError\u001b[0m\u001b[0;34m(\u001b[0m\u001b[0;34m'No objects to concatenate'\u001b[0m\u001b[0;34m)\u001b[0m\u001b[0;34m\u001b[0m\u001b[0m\n\u001b[0m\u001b[1;32m    260\u001b[0m \u001b[0;34m\u001b[0m\u001b[0m\n\u001b[1;32m    261\u001b[0m         \u001b[0;32mif\u001b[0m \u001b[0mkeys\u001b[0m \u001b[0;32mis\u001b[0m \u001b[0;32mNone\u001b[0m\u001b[0;34m:\u001b[0m\u001b[0;34m\u001b[0m\u001b[0m\n",
      "\u001b[0;31mValueError\u001b[0m: No objects to concatenate"
     ]
    }
   ],
   "source": [
    "hist_df = pd.concat([pd.DataFrame(hist.history) for hist in hists], sort=True)\n",
    "hist_df.index = np.arange(1, len(hist_df)+1)\n",
    "fig, axs = plt.subplots(nrows=2, sharex=True, figsize=(16, 10))\n",
    "axs[0].plot(hist_df.val_categorical_accuracy, lw=5, label='Validation Accuracy')\n",
    "axs[0].plot(hist_df.categorical_accuracy, lw=5, label='Training Accuracy')\n",
    "axs[0].set_ylabel('Accuracy')\n",
    "axs[0].set_xlabel('Epoch')\n",
    "axs[0].grid()\n",
    "axs[0].legend(loc=0)\n",
    "axs[1].plot(hist_df.val_categorical_crossentropy, lw=5, label='Validation MLogLoss')\n",
    "axs[1].plot(hist_df.categorical_crossentropy, lw=5, label='Training MLogLoss')\n",
    "axs[1].set_ylabel('MLogLoss')\n",
    "axs[1].set_xlabel('Epoch')\n",
    "axs[1].grid()\n",
    "axs[1].legend(loc=0)\n",
    "fig.savefig('hist.png', dpi=300)\n",
    "plt.show();"
   ]
  },
  {
   "cell_type": "code",
   "execution_count": 17,
   "metadata": {
    "_uuid": "8c1927f22d3c45cba0bdee7d6f4b6c858d82d614"
   },
   "outputs": [
    {
     "name": "stdout",
     "output_type": "stream",
     "text": [
      "70000/70000 [==============================] - 56s 804us/step\n",
      "Map3: 0.007\n"
     ]
    }
   ],
   "source": [
    "valid_predictions = model.predict(x_valid, batch_size=128, verbose=1)\n",
    "map3 = mapk(valid_df[['y']].values, preds2catids(valid_predictions).values)\n",
    "print('Map3: {:.3f}'.format(map3))"
   ]
  },
  {
   "cell_type": "markdown",
   "metadata": {
    "_uuid": "be4577a9ba00611697eea8f241a42c504981e86f"
   },
   "source": [
    "## Create Submission"
   ]
  },
  {
   "cell_type": "code",
   "execution_count": 21,
   "metadata": {
    "_uuid": "a7d14348150baf753e90cf2719b9f31dd564f6a2"
   },
   "outputs": [
    {
     "data": {
      "text/html": [
       "<div>\n",
       "<style scoped>\n",
       "    .dataframe tbody tr th:only-of-type {\n",
       "        vertical-align: middle;\n",
       "    }\n",
       "\n",
       "    .dataframe tbody tr th {\n",
       "        vertical-align: top;\n",
       "    }\n",
       "\n",
       "    .dataframe thead th {\n",
       "        text-align: right;\n",
       "    }\n",
       "</style>\n",
       "<table border=\"1\" class=\"dataframe\">\n",
       "  <thead>\n",
       "    <tr style=\"text-align: right;\">\n",
       "      <th></th>\n",
       "      <th>key_id</th>\n",
       "      <th>countrycode</th>\n",
       "      <th>drawing</th>\n",
       "    </tr>\n",
       "  </thead>\n",
       "  <tbody>\n",
       "    <tr>\n",
       "      <th>0</th>\n",
       "      <td>9000003627287624</td>\n",
       "      <td>DE</td>\n",
       "      <td>[[[17, 18, 20, 25, 137, 174, 242, 249, 251, 25...</td>\n",
       "    </tr>\n",
       "    <tr>\n",
       "      <th>1</th>\n",
       "      <td>9000010688666847</td>\n",
       "      <td>UA</td>\n",
       "      <td>[[[174, 145, 106, 38, 11, 4, 4, 15, 29, 78, 16...</td>\n",
       "    </tr>\n",
       "    <tr>\n",
       "      <th>2</th>\n",
       "      <td>9000023642890129</td>\n",
       "      <td>BG</td>\n",
       "      <td>[[[0, 12, 14, 17, 16, 24, 55, 57, 60, 79, 82, ...</td>\n",
       "    </tr>\n",
       "    <tr>\n",
       "      <th>3</th>\n",
       "      <td>9000038588854897</td>\n",
       "      <td>US</td>\n",
       "      <td>[[[0, 9, 23, 40, 54, 60, 81, 105, 123, 167, 20...</td>\n",
       "    </tr>\n",
       "    <tr>\n",
       "      <th>4</th>\n",
       "      <td>9000052667981386</td>\n",
       "      <td>AR</td>\n",
       "      <td>[[[87, 82, 71, 63, 66, 92, 96, 95], [220, 218,...</td>\n",
       "    </tr>\n",
       "  </tbody>\n",
       "</table>\n",
       "</div>"
      ],
      "text/plain": [
       "             key_id countrycode  \\\n",
       "0  9000003627287624          DE   \n",
       "1  9000010688666847          UA   \n",
       "2  9000023642890129          BG   \n",
       "3  9000038588854897          US   \n",
       "4  9000052667981386          AR   \n",
       "\n",
       "                                             drawing  \n",
       "0  [[[17, 18, 20, 25, 137, 174, 242, 249, 251, 25...  \n",
       "1  [[[174, 145, 106, 38, 11, 4, 4, 15, 29, 78, 16...  \n",
       "2  [[[0, 12, 14, 17, 16, 24, 55, 57, 60, 79, 82, ...  \n",
       "3  [[[0, 9, 23, 40, 54, 60, 81, 105, 123, 167, 20...  \n",
       "4  [[[87, 82, 71, 63, 66, 92, 96, 95], [220, 218,...  "
      ]
     },
     "execution_count": 21,
     "metadata": {},
     "output_type": "execute_result"
    },
    {
     "ename": "MemoryError",
     "evalue": "",
     "output_type": "error",
     "traceback": [
      "\u001b[0;31m---------------------------------------------------------------------------\u001b[0m",
      "\u001b[0;31mMemoryError\u001b[0m                               Traceback (most recent call last)",
      "\u001b[0;32m<ipython-input-21-e939c6b4056a>\u001b[0m in \u001b[0;36m<module>\u001b[0;34m\u001b[0m\n\u001b[1;32m      1\u001b[0m \u001b[0mtest\u001b[0m \u001b[0;34m=\u001b[0m \u001b[0mpd\u001b[0m\u001b[0;34m.\u001b[0m\u001b[0mread_csv\u001b[0m\u001b[0;34m(\u001b[0m\u001b[0mos\u001b[0m\u001b[0;34m.\u001b[0m\u001b[0mpath\u001b[0m\u001b[0;34m.\u001b[0m\u001b[0mjoin\u001b[0m\u001b[0;34m(\u001b[0m\u001b[0mINPUT_DIR\u001b[0m\u001b[0;34m,\u001b[0m \u001b[0;34m'test_simplified.csv'\u001b[0m\u001b[0;34m)\u001b[0m\u001b[0;34m)\u001b[0m\u001b[0;34m\u001b[0m\u001b[0m\n\u001b[1;32m      2\u001b[0m \u001b[0mtest\u001b[0m\u001b[0;34m.\u001b[0m\u001b[0mhead\u001b[0m\u001b[0;34m(\u001b[0m\u001b[0;34m)\u001b[0m\u001b[0;34m\u001b[0m\u001b[0m\n\u001b[0;32m----> 3\u001b[0;31m \u001b[0mx_test\u001b[0m \u001b[0;34m=\u001b[0m \u001b[0mdf_to_image_array_xd\u001b[0m\u001b[0;34m(\u001b[0m\u001b[0mtest\u001b[0m\u001b[0;34m,\u001b[0m \u001b[0msize\u001b[0m\u001b[0;34m)\u001b[0m\u001b[0;34m\u001b[0m\u001b[0m\n\u001b[0m\u001b[1;32m      4\u001b[0m \u001b[0mprint\u001b[0m\u001b[0;34m(\u001b[0m\u001b[0mtest\u001b[0m\u001b[0;34m.\u001b[0m\u001b[0mshape\u001b[0m\u001b[0;34m,\u001b[0m \u001b[0mx_test\u001b[0m\u001b[0;34m.\u001b[0m\u001b[0mshape\u001b[0m\u001b[0;34m)\u001b[0m\u001b[0;34m\u001b[0m\u001b[0m\n\u001b[1;32m      5\u001b[0m \u001b[0mprint\u001b[0m\u001b[0;34m(\u001b[0m\u001b[0;34m'Test array memory {:.2f} GB'\u001b[0m\u001b[0;34m.\u001b[0m\u001b[0mformat\u001b[0m\u001b[0;34m(\u001b[0m\u001b[0mx_test\u001b[0m\u001b[0;34m.\u001b[0m\u001b[0mnbytes\u001b[0m \u001b[0;34m/\u001b[0m \u001b[0;36m1024.\u001b[0m\u001b[0;34m**\u001b[0m\u001b[0;36m3\u001b[0m \u001b[0;34m)\u001b[0m\u001b[0;34m)\u001b[0m\u001b[0;34m\u001b[0m\u001b[0m\n",
      "\u001b[0;32m<ipython-input-8-bdc6141df85e>\u001b[0m in \u001b[0;36mdf_to_image_array_xd\u001b[0;34m(df, size, lw, time_color)\u001b[0m\n\u001b[1;32m     27\u001b[0m \u001b[0;32mdef\u001b[0m \u001b[0mdf_to_image_array_xd\u001b[0m\u001b[0;34m(\u001b[0m\u001b[0mdf\u001b[0m\u001b[0;34m,\u001b[0m \u001b[0msize\u001b[0m\u001b[0;34m,\u001b[0m \u001b[0mlw\u001b[0m\u001b[0;34m=\u001b[0m\u001b[0;36m6\u001b[0m\u001b[0;34m,\u001b[0m \u001b[0mtime_color\u001b[0m\u001b[0;34m=\u001b[0m\u001b[0;32mTrue\u001b[0m\u001b[0;34m)\u001b[0m\u001b[0;34m:\u001b[0m\u001b[0;34m\u001b[0m\u001b[0m\n\u001b[1;32m     28\u001b[0m     \u001b[0mdf\u001b[0m\u001b[0;34m[\u001b[0m\u001b[0;34m'drawing'\u001b[0m\u001b[0;34m]\u001b[0m \u001b[0;34m=\u001b[0m \u001b[0mdf\u001b[0m\u001b[0;34m[\u001b[0m\u001b[0;34m'drawing'\u001b[0m\u001b[0;34m]\u001b[0m\u001b[0;34m.\u001b[0m\u001b[0mapply\u001b[0m\u001b[0;34m(\u001b[0m\u001b[0mast\u001b[0m\u001b[0;34m.\u001b[0m\u001b[0mliteral_eval\u001b[0m\u001b[0;34m)\u001b[0m\u001b[0;34m\u001b[0m\u001b[0m\n\u001b[0;32m---> 29\u001b[0;31m     \u001b[0mx\u001b[0m \u001b[0;34m=\u001b[0m \u001b[0mnp\u001b[0m\u001b[0;34m.\u001b[0m\u001b[0mzeros\u001b[0m\u001b[0;34m(\u001b[0m\u001b[0;34m(\u001b[0m\u001b[0mlen\u001b[0m\u001b[0;34m(\u001b[0m\u001b[0mdf\u001b[0m\u001b[0;34m)\u001b[0m\u001b[0;34m,\u001b[0m \u001b[0msize\u001b[0m\u001b[0;34m,\u001b[0m \u001b[0msize\u001b[0m\u001b[0;34m,\u001b[0m \u001b[0;36m1\u001b[0m\u001b[0;34m)\u001b[0m\u001b[0;34m)\u001b[0m\u001b[0;34m\u001b[0m\u001b[0m\n\u001b[0m\u001b[1;32m     30\u001b[0m     \u001b[0;32mfor\u001b[0m \u001b[0mi\u001b[0m\u001b[0;34m,\u001b[0m \u001b[0mraw_strokes\u001b[0m \u001b[0;32min\u001b[0m \u001b[0menumerate\u001b[0m\u001b[0;34m(\u001b[0m\u001b[0mdf\u001b[0m\u001b[0;34m.\u001b[0m\u001b[0mdrawing\u001b[0m\u001b[0;34m.\u001b[0m\u001b[0mvalues\u001b[0m\u001b[0;34m)\u001b[0m\u001b[0;34m:\u001b[0m\u001b[0;34m\u001b[0m\u001b[0m\n\u001b[1;32m     31\u001b[0m         \u001b[0mx\u001b[0m\u001b[0;34m[\u001b[0m\u001b[0mi\u001b[0m\u001b[0;34m,\u001b[0m \u001b[0;34m:\u001b[0m\u001b[0;34m,\u001b[0m \u001b[0;34m:\u001b[0m\u001b[0;34m,\u001b[0m \u001b[0;36m0\u001b[0m\u001b[0;34m]\u001b[0m \u001b[0;34m=\u001b[0m \u001b[0mdraw_cv2\u001b[0m\u001b[0;34m(\u001b[0m\u001b[0mraw_strokes\u001b[0m\u001b[0;34m,\u001b[0m \u001b[0msize\u001b[0m\u001b[0;34m=\u001b[0m\u001b[0msize\u001b[0m\u001b[0;34m,\u001b[0m \u001b[0mlw\u001b[0m\u001b[0;34m=\u001b[0m\u001b[0mlw\u001b[0m\u001b[0;34m,\u001b[0m \u001b[0mtime_color\u001b[0m\u001b[0;34m=\u001b[0m\u001b[0mtime_color\u001b[0m\u001b[0;34m)\u001b[0m\u001b[0;34m\u001b[0m\u001b[0m\n",
      "\u001b[0;31mMemoryError\u001b[0m: "
     ]
    }
   ],
   "source": [
    "test = pd.read_csv(os.path.join(INPUT_DIR, 'test_simplified.csv'))\n",
    "test.head()\n",
    "x_test = df_to_image_array_xd(test, size)\n",
    "print(test.shape, x_test.shape)\n",
    "print('Test array memory {:.2f} GB'.format(x_test.nbytes / 1024.**3 ))"
   ]
  },
  {
   "cell_type": "code",
   "execution_count": null,
   "metadata": {
    "_uuid": "608b02f5c7909ae62becbe5c931b7264171296e8"
   },
   "outputs": [],
   "source": [
    "test_predictions = model.predict(x_test, batch_size=128, verbose=1)\n",
    "\n",
    "top3 = preds2catids(test_predictions)\n",
    "top3.head()\n",
    "top3.shape\n",
    "\n",
    "cats = list_all_categories()\n",
    "id2cat = {k: cat.replace(' ', '_') for k, cat in enumerate(cats)}\n",
    "top3cats = top3.replace(id2cat)\n",
    "top3cats.head()\n",
    "top3cats.shape"
   ]
  },
  {
   "cell_type": "code",
   "execution_count": null,
   "metadata": {
    "_uuid": "52e0f9c44f2a9a38fd1550ffb9c07fb7ea22b17d"
   },
   "outputs": [],
   "source": [
    "test['word'] = top3cats['a'] + ' ' + top3cats['b'] + ' ' + top3cats['c']\n",
    "submission = test[['key_id', 'word']]\n",
    "submission.to_csv('gs_mn_big_submission_densenet{}.csv'.format(int(map3 * 10**4)), index=False)\n",
    "submission.head()\n",
    "submission.shape"
   ]
  },
  {
   "cell_type": "code",
   "execution_count": null,
   "metadata": {
    "_uuid": "b418f4c06c4e4453aa1b5ab16dde344eb8b735c5"
   },
   "outputs": [],
   "source": [
    "end = dt.datetime.now()\n",
    "print('Latest run {}.\\nTotal time {}s'.format(end, (end - start).seconds))"
   ]
  },
  {
   "cell_type": "code",
   "execution_count": null,
   "metadata": {},
   "outputs": [],
   "source": [
    "savename=\"first_try_big\"\n",
    "model.save(savename+\".model\")\n",
    "model.save(savename+\".h5\")\n"
   ]
  },
  {
   "cell_type": "code",
   "execution_count": null,
   "metadata": {},
   "outputs": [],
   "source": []
  }
 ],
 "metadata": {
  "kernelspec": {
   "display_name": "Python 3",
   "language": "python",
   "name": "python3"
  },
  "language_info": {
   "codemirror_mode": {
    "name": "ipython",
    "version": 3
   },
   "file_extension": ".py",
   "mimetype": "text/x-python",
   "name": "python",
   "nbconvert_exporter": "python",
   "pygments_lexer": "ipython3",
   "version": "3.5.3"
  }
 },
 "nbformat": 4,
 "nbformat_minor": 2
}
