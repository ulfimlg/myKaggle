{
 "cells": [
  {
   "cell_type": "markdown",
   "metadata": {
    "_uuid": "b787e4a0ce54ea38ae1c10fee2a75b135d368a11"
   },
   "source": [
    "# Motivation\n",
    "![Owl](https://i.kym-cdn.com/photos/images/newsfeed/000/572/078/d6d.jpg)"
   ]
  },
  {
   "cell_type": "markdown",
   "metadata": {
    "_uuid": "5b12f60d3992203bdc6f54735f6b15d307cd1116"
   },
   "source": []
  },
  {
   "cell_type": "code",
   "execution_count": null,
   "metadata": {
    "_kg_hide-input": true,
    "_uuid": "85fa10a42b5ae09d4259f41720e8d9ad2fd0ae41"
   },
   "outputs": [],
   "source": [
    "%matplotlib inline\n",
    "import pandas as pd\n",
    "import numpy as np\n",
    "from IPython.core.interactiveshell import InteractiveShell\n",
    "InteractiveShell.ast_node_interactivity = \"all\"\n",
    "import datetime as dt\n",
    "import matplotlib.pyplot as plt\n",
    "import seaborn as sns\n",
    "import ast\n",
    "sns.set_palette(sns.color_palette('copper', 20))\n",
    "from datetime import date, timedelta\n",
    "# import cv2\n",
    "start = dt.datetime.now()"
   ]
  },
  {
   "cell_type": "code",
   "execution_count": null,
   "metadata": {},
   "outputs": [],
   "source": [
    "!ls train_simplified"
   ]
  },
  {
   "cell_type": "markdown",
   "metadata": {
    "_uuid": "dfc74b0c36c8c8a472009fcb247e7f8fafb5bdf6"
   },
   "source": [
    "# Step 0 - Data Understanding"
   ]
  },
  {
   "cell_type": "code",
   "execution_count": 3,
   "metadata": {
    "_cell_guid": "79c7e3d0-c299-4dcb-8224-4455121ee9b0",
    "_uuid": "d629ff2d2480ee46fbb7e2d37f6b5fab8052498a"
   },
   "outputs": [],
   "source": [
    "mypd = pd.read_csv('train_simplified/train_simplified/apple.csv')#, usecols=['drawing'])"
   ]
  },
  {
   "cell_type": "code",
   "execution_count": 5,
   "metadata": {},
   "outputs": [],
   "source": [
    "# mypd"
   ]
  },
  {
   "cell_type": "code",
   "execution_count": 124,
   "metadata": {},
   "outputs": [],
   "source": [
    "x = mypd['countrycode']\n",
    "xi = mypd['countrycode']\n",
    "p=[i+1 for i,y in enumerate(x) if y != 'US']"
   ]
  },
  {
   "cell_type": "code",
   "execution_count": 12,
   "metadata": {},
   "outputs": [],
   "source": [
    "xc = range(1,3)"
   ]
  },
  {
   "cell_type": "code",
   "execution_count": 13,
   "metadata": {},
   "outputs": [
    {
     "data": {
      "text/plain": [
       "range(1, 3)"
      ]
     },
     "execution_count": 13,
     "metadata": {},
     "output_type": "execute_result"
    }
   ],
   "source": [
    "xc"
   ]
  },
  {
   "cell_type": "code",
   "execution_count": 16,
   "metadata": {},
   "outputs": [],
   "source": [
    "mmypd = pd.read_csv('train_simplified/train_simplified/apple.csv')#,skiprows=xc)"
   ]
  },
  {
   "cell_type": "code",
   "execution_count": 18,
   "metadata": {},
   "outputs": [
    {
     "name": "stdout",
     "output_type": "stream",
     "text": [
      "1\n",
      "2\n"
     ]
    }
   ],
   "source": [
    "mmpd"
   ]
  },
  {
   "cell_type": "code",
   "execution_count": 68,
   "metadata": {},
   "outputs": [
    {
     "data": {
      "text/plain": [
       "102"
      ]
     },
     "execution_count": 68,
     "metadata": {},
     "output_type": "execute_result"
    }
   ],
   "source": [
    "len(p)"
   ]
  },
  {
   "cell_type": "code",
   "execution_count": 53,
   "metadata": {
    "_cell_guid": "79c7e3d0-c299-4dcb-8224-4455121ee9b0",
    "_uuid": "d629ff2d2480ee46fbb7e2d37f6b5fab8052498a"
   },
   "outputs": [
    {
     "data": {
      "text/html": [
       "<div>\n",
       "<style scoped>\n",
       "    .dataframe tbody tr th:only-of-type {\n",
       "        vertical-align: middle;\n",
       "    }\n",
       "\n",
       "    .dataframe tbody tr th {\n",
       "        vertical-align: top;\n",
       "    }\n",
       "\n",
       "    .dataframe thead th {\n",
       "        text-align: right;\n",
       "    }\n",
       "</style>\n",
       "<table border=\"1\" class=\"dataframe\">\n",
       "  <thead>\n",
       "    <tr style=\"text-align: right;\">\n",
       "      <th></th>\n",
       "      <th>countrycode</th>\n",
       "      <th>drawing</th>\n",
       "      <th>key_id</th>\n",
       "      <th>recognized</th>\n",
       "      <th>timestamp</th>\n",
       "      <th>word</th>\n",
       "    </tr>\n",
       "  </thead>\n",
       "  <tbody>\n",
       "    <tr>\n",
       "      <th>62864</th>\n",
       "      <td>ZZ</td>\n",
       "      <td>[[[107, 99, 87, 63, 44, 17, 5, 1, 1, 8, 34, 44...</td>\n",
       "      <td>5462779043512320</td>\n",
       "      <td>True</td>\n",
       "      <td>2017-03-03 20:58:50.345020</td>\n",
       "      <td>apple</td>\n",
       "    </tr>\n",
       "    <tr>\n",
       "      <th>75559</th>\n",
       "      <td>ZZ</td>\n",
       "      <td>[[[82, 82, 94, 110, 112, 138, 171, 197, 221, 2...</td>\n",
       "      <td>5895401183903744</td>\n",
       "      <td>True</td>\n",
       "      <td>2017-03-21 13:59:54.322320</td>\n",
       "      <td>apple</td>\n",
       "    </tr>\n",
       "    <tr>\n",
       "      <th>72783</th>\n",
       "      <td>ZZ</td>\n",
       "      <td>[[[118, 31, 14, 0, 0, 10, 25, 44, 66, 96, 148,...</td>\n",
       "      <td>4812025567903744</td>\n",
       "      <td>True</td>\n",
       "      <td>2017-01-24 09:47:08.385680</td>\n",
       "      <td>apple</td>\n",
       "    </tr>\n",
       "    <tr>\n",
       "      <th>36583</th>\n",
       "      <td>ZZ</td>\n",
       "      <td>[[[51, 41, 28, 7, 0, 7, 12, 25, 57, 84, 114], ...</td>\n",
       "      <td>5207121656283136</td>\n",
       "      <td>True</td>\n",
       "      <td>2017-01-25 01:42:01.278760</td>\n",
       "      <td>apple</td>\n",
       "    </tr>\n",
       "    <tr>\n",
       "      <th>49964</th>\n",
       "      <td>ZZ</td>\n",
       "      <td>[[[128, 121, 108, 88, 62, 20, 10, 0, 0, 20, 51...</td>\n",
       "      <td>5604747190992896</td>\n",
       "      <td>True</td>\n",
       "      <td>2017-03-21 23:00:52.662940</td>\n",
       "      <td>apple</td>\n",
       "    </tr>\n",
       "    <tr>\n",
       "      <th>89968</th>\n",
       "      <td>ZZ</td>\n",
       "      <td>[[[123, 123, 106, 72, 27, 7, 0, 2, 19, 41, 95,...</td>\n",
       "      <td>5312519528775680</td>\n",
       "      <td>True</td>\n",
       "      <td>2017-03-27 21:27:44.916880</td>\n",
       "      <td>apple</td>\n",
       "    </tr>\n",
       "    <tr>\n",
       "      <th>114543</th>\n",
       "      <td>ZZ</td>\n",
       "      <td>[[[53, 49, 42, 29, 18, 8, 0, 4, 27, 37, 49], [...</td>\n",
       "      <td>4855063421911040</td>\n",
       "      <td>True</td>\n",
       "      <td>2017-01-26 06:08:40.090780</td>\n",
       "      <td>apple</td>\n",
       "    </tr>\n",
       "    <tr>\n",
       "      <th>77006</th>\n",
       "      <td>ZZ</td>\n",
       "      <td>[[[101, 103, 99, 79], [0, 11, 24, 55]], [[84, ...</td>\n",
       "      <td>5375459107799040</td>\n",
       "      <td>True</td>\n",
       "      <td>2017-01-29 16:20:28.449370</td>\n",
       "      <td>apple</td>\n",
       "    </tr>\n",
       "    <tr>\n",
       "      <th>102854</th>\n",
       "      <td>ZZ</td>\n",
       "      <td>[[[71, 48, 37, 27, 17, 4, 0, 1, 14, 28, 89, 14...</td>\n",
       "      <td>4856620817317888</td>\n",
       "      <td>True</td>\n",
       "      <td>2017-01-31 05:39:11.772440</td>\n",
       "      <td>apple</td>\n",
       "    </tr>\n",
       "    <tr>\n",
       "      <th>26597</th>\n",
       "      <td>ZZ</td>\n",
       "      <td>[[[0, 0], [255, 255]], [[39, 27, 17, 11, 7, 8,...</td>\n",
       "      <td>6369143580262400</td>\n",
       "      <td>True</td>\n",
       "      <td>2017-01-23 14:53:07.736890</td>\n",
       "      <td>apple</td>\n",
       "    </tr>\n",
       "    <tr>\n",
       "      <th>41123</th>\n",
       "      <td>ZZ</td>\n",
       "      <td>[[[104, 81, 69, 27, 8, 0], [103, 74, 72, 93, 1...</td>\n",
       "      <td>6326436954636288</td>\n",
       "      <td>True</td>\n",
       "      <td>2017-03-26 10:23:32.527970</td>\n",
       "      <td>apple</td>\n",
       "    </tr>\n",
       "    <tr>\n",
       "      <th>143719</th>\n",
       "      <td>ZZ</td>\n",
       "      <td>[[[103, 74, 54, 29, 7, 0, 0, 8, 18, 34, 44, 52...</td>\n",
       "      <td>6387520403144704</td>\n",
       "      <td>True</td>\n",
       "      <td>2017-01-24 12:10:41.599960</td>\n",
       "      <td>apple</td>\n",
       "    </tr>\n",
       "    <tr>\n",
       "      <th>118398</th>\n",
       "      <td>ZZ</td>\n",
       "      <td>[[[96, 58, 39, 25, 14, 2, 0, 7, 21, 44, 94, 10...</td>\n",
       "      <td>4905996562464768</td>\n",
       "      <td>True</td>\n",
       "      <td>2017-03-11 10:42:39.821680</td>\n",
       "      <td>apple</td>\n",
       "    </tr>\n",
       "    <tr>\n",
       "      <th>80900</th>\n",
       "      <td>ZZ</td>\n",
       "      <td>[[[100, 68, 51, 41, 26, 13, 2, 0, 13, 28, 45, ...</td>\n",
       "      <td>6463496927576064</td>\n",
       "      <td>True</td>\n",
       "      <td>2017-03-09 18:06:41.489590</td>\n",
       "      <td>apple</td>\n",
       "    </tr>\n",
       "    <tr>\n",
       "      <th>21857</th>\n",
       "      <td>ZZ</td>\n",
       "      <td>[[[99, 97, 81, 49, 37, 14, 6, 0, 0, 12, 23, 36...</td>\n",
       "      <td>6201251945512960</td>\n",
       "      <td>True</td>\n",
       "      <td>2017-03-26 22:07:25.897700</td>\n",
       "      <td>apple</td>\n",
       "    </tr>\n",
       "    <tr>\n",
       "      <th>47716</th>\n",
       "      <td>ZZ</td>\n",
       "      <td>[[[87, 97, 114, 141, 156, 164, 178, 188, 188, ...</td>\n",
       "      <td>5523685286871040</td>\n",
       "      <td>True</td>\n",
       "      <td>2017-03-23 23:55:58.025830</td>\n",
       "      <td>apple</td>\n",
       "    </tr>\n",
       "    <tr>\n",
       "      <th>30718</th>\n",
       "      <td>ZZ</td>\n",
       "      <td>[[[142, 136, 117, 90, 60, 41, 22, 7, 0, 3, 25,...</td>\n",
       "      <td>6380383220269056</td>\n",
       "      <td>True</td>\n",
       "      <td>2017-03-27 13:35:48.617540</td>\n",
       "      <td>apple</td>\n",
       "    </tr>\n",
       "    <tr>\n",
       "      <th>73929</th>\n",
       "      <td>ZZ</td>\n",
       "      <td>[[[121, 106, 53, 27, 11, 1, 1, 7, 31, 46, 57, ...</td>\n",
       "      <td>5368471632216064</td>\n",
       "      <td>True</td>\n",
       "      <td>2017-01-23 14:36:05.069410</td>\n",
       "      <td>apple</td>\n",
       "    </tr>\n",
       "    <tr>\n",
       "      <th>50438</th>\n",
       "      <td>ZZ</td>\n",
       "      <td>[[[109, 113, 98, 71, 29, 10, 4, 0, 0, 4, 35, 5...</td>\n",
       "      <td>4993623361847296</td>\n",
       "      <td>True</td>\n",
       "      <td>2017-01-27 16:33:57.304710</td>\n",
       "      <td>apple</td>\n",
       "    </tr>\n",
       "    <tr>\n",
       "      <th>82480</th>\n",
       "      <td>ZZ</td>\n",
       "      <td>[[[95, 96, 100, 126, 148, 172, 182, 185, 184, ...</td>\n",
       "      <td>6731079547355136</td>\n",
       "      <td>True</td>\n",
       "      <td>2017-03-20 17:31:41.055390</td>\n",
       "      <td>apple</td>\n",
       "    </tr>\n",
       "    <tr>\n",
       "      <th>48590</th>\n",
       "      <td>ZZ</td>\n",
       "      <td>[[[95, 99, 115, 137, 154, 162, 161, 152, 129, ...</td>\n",
       "      <td>6109623700422656</td>\n",
       "      <td>True</td>\n",
       "      <td>2017-03-12 20:54:14.890350</td>\n",
       "      <td>apple</td>\n",
       "    </tr>\n",
       "    <tr>\n",
       "      <th>91062</th>\n",
       "      <td>ZZ</td>\n",
       "      <td>[[[97, 95, 89, 81, 92, 94, 85, 60, 39, 21, 0, ...</td>\n",
       "      <td>6296637062250496</td>\n",
       "      <td>True</td>\n",
       "      <td>2017-03-28 13:38:56.261610</td>\n",
       "      <td>apple</td>\n",
       "    </tr>\n",
       "    <tr>\n",
       "      <th>78525</th>\n",
       "      <td>ZZ</td>\n",
       "      <td>[[[117, 119], [213, 212]], [[124, 113, 104, 93...</td>\n",
       "      <td>5189570775744512</td>\n",
       "      <td>True</td>\n",
       "      <td>2017-01-30 14:28:03.994900</td>\n",
       "      <td>apple</td>\n",
       "    </tr>\n",
       "    <tr>\n",
       "      <th>29094</th>\n",
       "      <td>ZZ</td>\n",
       "      <td>[[[112, 92, 78, 37, 24, 11, 5, 0, 0, 1, 9, 30,...</td>\n",
       "      <td>6209584303702016</td>\n",
       "      <td>True</td>\n",
       "      <td>2017-01-24 20:46:40.644160</td>\n",
       "      <td>apple</td>\n",
       "    </tr>\n",
       "    <tr>\n",
       "      <th>61934</th>\n",
       "      <td>ZZ</td>\n",
       "      <td>[[[133, 150, 168, 191, 211, 237, 254, 254, 232...</td>\n",
       "      <td>5224898085519360</td>\n",
       "      <td>True</td>\n",
       "      <td>2017-03-03 13:12:02.239960</td>\n",
       "      <td>apple</td>\n",
       "    </tr>\n",
       "    <tr>\n",
       "      <th>57507</th>\n",
       "      <td>ZZ</td>\n",
       "      <td>[[[114, 102, 92, 49, 39, 22, 11, 0, 0, 10, 24,...</td>\n",
       "      <td>5137234330124288</td>\n",
       "      <td>True</td>\n",
       "      <td>2017-03-27 06:38:00.464130</td>\n",
       "      <td>apple</td>\n",
       "    </tr>\n",
       "    <tr>\n",
       "      <th>118655</th>\n",
       "      <td>ZZ</td>\n",
       "      <td>[[[124, 124], [255, 255]], [[50, 53, 62, 78, 8...</td>\n",
       "      <td>5459776597131264</td>\n",
       "      <td>True</td>\n",
       "      <td>2017-01-24 18:49:46.566910</td>\n",
       "      <td>apple</td>\n",
       "    </tr>\n",
       "    <tr>\n",
       "      <th>71392</th>\n",
       "      <td>ZZ</td>\n",
       "      <td>[[[80, 70, 60, 41, 24, 3, 1, 12, 48, 72, 102, ...</td>\n",
       "      <td>5033302954082304</td>\n",
       "      <td>True</td>\n",
       "      <td>2017-01-27 12:46:03.068420</td>\n",
       "      <td>apple</td>\n",
       "    </tr>\n",
       "    <tr>\n",
       "      <th>3228</th>\n",
       "      <td>ZZ</td>\n",
       "      <td>[[[121, 114, 98, 94, 81, 63, 45, 30, 14, 4, 0,...</td>\n",
       "      <td>5250308923981824</td>\n",
       "      <td>True</td>\n",
       "      <td>2017-03-11 19:21:58.908370</td>\n",
       "      <td>apple</td>\n",
       "    </tr>\n",
       "    <tr>\n",
       "      <th>130248</th>\n",
       "      <td>ZZ</td>\n",
       "      <td>[[[110, 86, 68, 17, 4, 0, 27, 46, 59, 72, 95, ...</td>\n",
       "      <td>5304637110353920</td>\n",
       "      <td>True</td>\n",
       "      <td>2017-01-24 18:15:13.422680</td>\n",
       "      <td>apple</td>\n",
       "    </tr>\n",
       "    <tr>\n",
       "      <th>...</th>\n",
       "      <td>...</td>\n",
       "      <td>...</td>\n",
       "      <td>...</td>\n",
       "      <td>...</td>\n",
       "      <td>...</td>\n",
       "      <td>...</td>\n",
       "    </tr>\n",
       "    <tr>\n",
       "      <th>40691</th>\n",
       "      <td>US</td>\n",
       "      <td>[[[75, 38, 16, 1, 0, 12, 21, 31, 129, 139, 158...</td>\n",
       "      <td>5004249375178752</td>\n",
       "      <td>True</td>\n",
       "      <td>2017-03-08 17:34:04.536860</td>\n",
       "      <td>apple</td>\n",
       "    </tr>\n",
       "    <tr>\n",
       "      <th>40692</th>\n",
       "      <td>US</td>\n",
       "      <td>[[[70, 51, 38, 4, 0, 8, 16, 28, 43, 95, 148, 1...</td>\n",
       "      <td>4621551179661312</td>\n",
       "      <td>True</td>\n",
       "      <td>2017-03-02 16:39:48.946950</td>\n",
       "      <td>apple</td>\n",
       "    </tr>\n",
       "    <tr>\n",
       "      <th>29276</th>\n",
       "      <td>US</td>\n",
       "      <td>[[[40, 40, 46, 66, 86, 110, 157, 167, 177, 191...</td>\n",
       "      <td>5179042061877248</td>\n",
       "      <td>True</td>\n",
       "      <td>2017-03-04 01:47:52.209600</td>\n",
       "      <td>apple</td>\n",
       "    </tr>\n",
       "    <tr>\n",
       "      <th>19523</th>\n",
       "      <td>US</td>\n",
       "      <td>[[[160, 141, 132, 135, 156], [105, 128, 149, 1...</td>\n",
       "      <td>5879781092491264</td>\n",
       "      <td>True</td>\n",
       "      <td>2017-03-27 15:55:19.944220</td>\n",
       "      <td>apple</td>\n",
       "    </tr>\n",
       "    <tr>\n",
       "      <th>3536</th>\n",
       "      <td>US</td>\n",
       "      <td>[[[121, 125, 144, 182, 210, 224, 244, 254, 253...</td>\n",
       "      <td>5045038683783168</td>\n",
       "      <td>True</td>\n",
       "      <td>2017-01-29 00:24:27.863390</td>\n",
       "      <td>apple</td>\n",
       "    </tr>\n",
       "    <tr>\n",
       "      <th>40707</th>\n",
       "      <td>US</td>\n",
       "      <td>[[[95, 92, 81, 54, 35, 21, 10, 3, 0, 22, 43, 7...</td>\n",
       "      <td>6107829091958784</td>\n",
       "      <td>True</td>\n",
       "      <td>2017-03-27 15:32:30.002850</td>\n",
       "      <td>apple</td>\n",
       "    </tr>\n",
       "    <tr>\n",
       "      <th>32686</th>\n",
       "      <td>US</td>\n",
       "      <td>[[[157, 135, 98, 71, 44, 21, 4, 0, 11, 31, 44,...</td>\n",
       "      <td>5898584916492288</td>\n",
       "      <td>True</td>\n",
       "      <td>2017-01-27 14:07:58.388100</td>\n",
       "      <td>apple</td>\n",
       "    </tr>\n",
       "    <tr>\n",
       "      <th>40721</th>\n",
       "      <td>US</td>\n",
       "      <td>[[[176, 138, 100, 81, 44, 16, 2, 0, 5, 23, 25,...</td>\n",
       "      <td>5136014546829312</td>\n",
       "      <td>True</td>\n",
       "      <td>2017-01-27 02:12:04.290100</td>\n",
       "      <td>apple</td>\n",
       "    </tr>\n",
       "    <tr>\n",
       "      <th>17923</th>\n",
       "      <td>US</td>\n",
       "      <td>[[[26, 29, 47, 51], [80, 77, 76, 82]], [[52, 7...</td>\n",
       "      <td>6296676589371392</td>\n",
       "      <td>False</td>\n",
       "      <td>2017-03-22 13:10:29.765300</td>\n",
       "      <td>apple</td>\n",
       "    </tr>\n",
       "    <tr>\n",
       "      <th>11716</th>\n",
       "      <td>US</td>\n",
       "      <td>[[[69, 45, 22, 4, 0, 0, 5, 24, 45, 78, 113, 13...</td>\n",
       "      <td>5771959864393728</td>\n",
       "      <td>True</td>\n",
       "      <td>2017-03-16 14:25:39.610840</td>\n",
       "      <td>apple</td>\n",
       "    </tr>\n",
       "    <tr>\n",
       "      <th>40719</th>\n",
       "      <td>US</td>\n",
       "      <td>[[[110, 129, 159, 178, 185, 186, 181, 169, 155...</td>\n",
       "      <td>5621540999659520</td>\n",
       "      <td>True</td>\n",
       "      <td>2017-03-02 22:18:24.596440</td>\n",
       "      <td>apple</td>\n",
       "    </tr>\n",
       "    <tr>\n",
       "      <th>8622</th>\n",
       "      <td>US</td>\n",
       "      <td>[[[88, 66, 49, 25, 9, 1, 0, 15, 27, 39, 63, 88...</td>\n",
       "      <td>5802871733878784</td>\n",
       "      <td>True</td>\n",
       "      <td>2017-03-06 03:20:21.991030</td>\n",
       "      <td>apple</td>\n",
       "    </tr>\n",
       "    <tr>\n",
       "      <th>32679</th>\n",
       "      <td>US</td>\n",
       "      <td>[[[148, 51, 38, 14, 1, 0, 9, 26, 45, 60, 119, ...</td>\n",
       "      <td>5026190416936960</td>\n",
       "      <td>True</td>\n",
       "      <td>2017-03-10 22:48:54.890480</td>\n",
       "      <td>apple</td>\n",
       "    </tr>\n",
       "    <tr>\n",
       "      <th>1267</th>\n",
       "      <td>US</td>\n",
       "      <td>[[[117, 115, 117, 125, 132, 146, 155, 180, 197...</td>\n",
       "      <td>5855934024777728</td>\n",
       "      <td>True</td>\n",
       "      <td>2017-03-24 22:50:33.494610</td>\n",
       "      <td>apple</td>\n",
       "    </tr>\n",
       "    <tr>\n",
       "      <th>40720</th>\n",
       "      <td>US</td>\n",
       "      <td>[[[127, 140, 170, 182, 186, 181, 142, 128, 113...</td>\n",
       "      <td>6497580013846528</td>\n",
       "      <td>True</td>\n",
       "      <td>2017-01-23 17:29:27.741940</td>\n",
       "      <td>apple</td>\n",
       "    </tr>\n",
       "    <tr>\n",
       "      <th>40722</th>\n",
       "      <td>US</td>\n",
       "      <td>[[[101, 101, 87, 76, 25, 9, 4, 0, 0, 6, 17, 57...</td>\n",
       "      <td>4576794717978624</td>\n",
       "      <td>True</td>\n",
       "      <td>2017-03-27 16:59:33.185860</td>\n",
       "      <td>apple</td>\n",
       "    </tr>\n",
       "    <tr>\n",
       "      <th>40708</th>\n",
       "      <td>US</td>\n",
       "      <td>[[[45, 16, 3, 0, 4, 16, 28, 43, 48, 54, 56, 67...</td>\n",
       "      <td>6416972168298496</td>\n",
       "      <td>True</td>\n",
       "      <td>2017-01-24 21:02:06.102180</td>\n",
       "      <td>apple</td>\n",
       "    </tr>\n",
       "    <tr>\n",
       "      <th>21362</th>\n",
       "      <td>US</td>\n",
       "      <td>[[[2, 6, 12, 20, 37, 56, 89, 113, 137, 156, 16...</td>\n",
       "      <td>5151976251719680</td>\n",
       "      <td>True</td>\n",
       "      <td>2017-03-05 17:50:44.994250</td>\n",
       "      <td>apple</td>\n",
       "    </tr>\n",
       "    <tr>\n",
       "      <th>11713</th>\n",
       "      <td>US</td>\n",
       "      <td>[[[42, 51, 119, 186, 203, 222, 227, 228, 223, ...</td>\n",
       "      <td>5013955065937920</td>\n",
       "      <td>True</td>\n",
       "      <td>2017-01-26 18:21:13.821170</td>\n",
       "      <td>apple</td>\n",
       "    </tr>\n",
       "    <tr>\n",
       "      <th>40725</th>\n",
       "      <td>US</td>\n",
       "      <td>[[[99, 108, 159, 175, 187, 190, 190, 185, 179,...</td>\n",
       "      <td>4971089073537024</td>\n",
       "      <td>True</td>\n",
       "      <td>2017-03-13 12:53:44.155610</td>\n",
       "      <td>apple</td>\n",
       "    </tr>\n",
       "    <tr>\n",
       "      <th>11712</th>\n",
       "      <td>US</td>\n",
       "      <td>[[[135, 124, 109, 80, 49, 34, 22, 6, 1, 2, 17,...</td>\n",
       "      <td>5782788483579904</td>\n",
       "      <td>True</td>\n",
       "      <td>2017-03-21 02:15:15.713070</td>\n",
       "      <td>apple</td>\n",
       "    </tr>\n",
       "    <tr>\n",
       "      <th>16373</th>\n",
       "      <td>US</td>\n",
       "      <td>[[[103, 107, 116, 131, 174, 199, 228, 248, 255...</td>\n",
       "      <td>6187330467528704</td>\n",
       "      <td>True</td>\n",
       "      <td>2017-01-26 02:27:29.859470</td>\n",
       "      <td>apple</td>\n",
       "    </tr>\n",
       "    <tr>\n",
       "      <th>7719</th>\n",
       "      <td>US</td>\n",
       "      <td>[[[25, 23, 4, 0, 0, 16, 28, 53, 86, 111, 122, ...</td>\n",
       "      <td>6207660355485696</td>\n",
       "      <td>True</td>\n",
       "      <td>2017-03-15 14:30:37.496260</td>\n",
       "      <td>apple</td>\n",
       "    </tr>\n",
       "    <tr>\n",
       "      <th>11711</th>\n",
       "      <td>US</td>\n",
       "      <td>[[[137, 151, 174, 232, 247, 255, 254, 248, 238...</td>\n",
       "      <td>5009843251314688</td>\n",
       "      <td>True</td>\n",
       "      <td>2017-03-24 12:42:31.851120</td>\n",
       "      <td>apple</td>\n",
       "    </tr>\n",
       "    <tr>\n",
       "      <th>5719</th>\n",
       "      <td>US</td>\n",
       "      <td>[[[121, 121], [107, 107]], [[130, 120, 105, 72...</td>\n",
       "      <td>6538067760381952</td>\n",
       "      <td>True</td>\n",
       "      <td>2017-03-08 20:08:46.538720</td>\n",
       "      <td>apple</td>\n",
       "    </tr>\n",
       "    <tr>\n",
       "      <th>23774</th>\n",
       "      <td>US</td>\n",
       "      <td>[[[96, 66, 51, 28, 9, 1, 1, 7, 22, 45, 68, 89,...</td>\n",
       "      <td>5332756932329472</td>\n",
       "      <td>True</td>\n",
       "      <td>2017-01-30 12:19:59.459800</td>\n",
       "      <td>apple</td>\n",
       "    </tr>\n",
       "    <tr>\n",
       "      <th>21364</th>\n",
       "      <td>US</td>\n",
       "      <td>[[[76, 52, 27, 11, 2, 1, 14, 37, 53, 87, 111, ...</td>\n",
       "      <td>5101283675471872</td>\n",
       "      <td>True</td>\n",
       "      <td>2017-03-16 18:00:57.651680</td>\n",
       "      <td>apple</td>\n",
       "    </tr>\n",
       "    <tr>\n",
       "      <th>17449</th>\n",
       "      <td>US</td>\n",
       "      <td>[[[85, 67, 40, 21, 9, 0, 3, 11, 32, 49, 80, 14...</td>\n",
       "      <td>5494117121392640</td>\n",
       "      <td>True</td>\n",
       "      <td>2017-03-25 18:55:10.210690</td>\n",
       "      <td>apple</td>\n",
       "    </tr>\n",
       "    <tr>\n",
       "      <th>27832</th>\n",
       "      <td>US</td>\n",
       "      <td>[[[93, 90, 81, 71, 46, 24, 17, 12, 11, 28, 58,...</td>\n",
       "      <td>6133573578915840</td>\n",
       "      <td>True</td>\n",
       "      <td>2017-03-06 20:47:48.767780</td>\n",
       "      <td>apple</td>\n",
       "    </tr>\n",
       "    <tr>\n",
       "      <th>19524</th>\n",
       "      <td>US</td>\n",
       "      <td>[[[23, 57, 92, 117, 137, 143, 141, 136, 129, 1...</td>\n",
       "      <td>5664117211791360</td>\n",
       "      <td>True</td>\n",
       "      <td>2017-03-12 02:29:02.084610</td>\n",
       "      <td>apple</td>\n",
       "    </tr>\n",
       "  </tbody>\n",
       "</table>\n",
       "<p>63025 rows × 6 columns</p>\n",
       "</div>"
      ],
      "text/plain": [
       "       countrycode                                            drawing  \\\n",
       "62864           ZZ  [[[107, 99, 87, 63, 44, 17, 5, 1, 1, 8, 34, 44...   \n",
       "75559           ZZ  [[[82, 82, 94, 110, 112, 138, 171, 197, 221, 2...   \n",
       "72783           ZZ  [[[118, 31, 14, 0, 0, 10, 25, 44, 66, 96, 148,...   \n",
       "36583           ZZ  [[[51, 41, 28, 7, 0, 7, 12, 25, 57, 84, 114], ...   \n",
       "49964           ZZ  [[[128, 121, 108, 88, 62, 20, 10, 0, 0, 20, 51...   \n",
       "89968           ZZ  [[[123, 123, 106, 72, 27, 7, 0, 2, 19, 41, 95,...   \n",
       "114543          ZZ  [[[53, 49, 42, 29, 18, 8, 0, 4, 27, 37, 49], [...   \n",
       "77006           ZZ  [[[101, 103, 99, 79], [0, 11, 24, 55]], [[84, ...   \n",
       "102854          ZZ  [[[71, 48, 37, 27, 17, 4, 0, 1, 14, 28, 89, 14...   \n",
       "26597           ZZ  [[[0, 0], [255, 255]], [[39, 27, 17, 11, 7, 8,...   \n",
       "41123           ZZ  [[[104, 81, 69, 27, 8, 0], [103, 74, 72, 93, 1...   \n",
       "143719          ZZ  [[[103, 74, 54, 29, 7, 0, 0, 8, 18, 34, 44, 52...   \n",
       "118398          ZZ  [[[96, 58, 39, 25, 14, 2, 0, 7, 21, 44, 94, 10...   \n",
       "80900           ZZ  [[[100, 68, 51, 41, 26, 13, 2, 0, 13, 28, 45, ...   \n",
       "21857           ZZ  [[[99, 97, 81, 49, 37, 14, 6, 0, 0, 12, 23, 36...   \n",
       "47716           ZZ  [[[87, 97, 114, 141, 156, 164, 178, 188, 188, ...   \n",
       "30718           ZZ  [[[142, 136, 117, 90, 60, 41, 22, 7, 0, 3, 25,...   \n",
       "73929           ZZ  [[[121, 106, 53, 27, 11, 1, 1, 7, 31, 46, 57, ...   \n",
       "50438           ZZ  [[[109, 113, 98, 71, 29, 10, 4, 0, 0, 4, 35, 5...   \n",
       "82480           ZZ  [[[95, 96, 100, 126, 148, 172, 182, 185, 184, ...   \n",
       "48590           ZZ  [[[95, 99, 115, 137, 154, 162, 161, 152, 129, ...   \n",
       "91062           ZZ  [[[97, 95, 89, 81, 92, 94, 85, 60, 39, 21, 0, ...   \n",
       "78525           ZZ  [[[117, 119], [213, 212]], [[124, 113, 104, 93...   \n",
       "29094           ZZ  [[[112, 92, 78, 37, 24, 11, 5, 0, 0, 1, 9, 30,...   \n",
       "61934           ZZ  [[[133, 150, 168, 191, 211, 237, 254, 254, 232...   \n",
       "57507           ZZ  [[[114, 102, 92, 49, 39, 22, 11, 0, 0, 10, 24,...   \n",
       "118655          ZZ  [[[124, 124], [255, 255]], [[50, 53, 62, 78, 8...   \n",
       "71392           ZZ  [[[80, 70, 60, 41, 24, 3, 1, 12, 48, 72, 102, ...   \n",
       "3228            ZZ  [[[121, 114, 98, 94, 81, 63, 45, 30, 14, 4, 0,...   \n",
       "130248          ZZ  [[[110, 86, 68, 17, 4, 0, 27, 46, 59, 72, 95, ...   \n",
       "...            ...                                                ...   \n",
       "40691           US  [[[75, 38, 16, 1, 0, 12, 21, 31, 129, 139, 158...   \n",
       "40692           US  [[[70, 51, 38, 4, 0, 8, 16, 28, 43, 95, 148, 1...   \n",
       "29276           US  [[[40, 40, 46, 66, 86, 110, 157, 167, 177, 191...   \n",
       "19523           US  [[[160, 141, 132, 135, 156], [105, 128, 149, 1...   \n",
       "3536            US  [[[121, 125, 144, 182, 210, 224, 244, 254, 253...   \n",
       "40707           US  [[[95, 92, 81, 54, 35, 21, 10, 3, 0, 22, 43, 7...   \n",
       "32686           US  [[[157, 135, 98, 71, 44, 21, 4, 0, 11, 31, 44,...   \n",
       "40721           US  [[[176, 138, 100, 81, 44, 16, 2, 0, 5, 23, 25,...   \n",
       "17923           US  [[[26, 29, 47, 51], [80, 77, 76, 82]], [[52, 7...   \n",
       "11716           US  [[[69, 45, 22, 4, 0, 0, 5, 24, 45, 78, 113, 13...   \n",
       "40719           US  [[[110, 129, 159, 178, 185, 186, 181, 169, 155...   \n",
       "8622            US  [[[88, 66, 49, 25, 9, 1, 0, 15, 27, 39, 63, 88...   \n",
       "32679           US  [[[148, 51, 38, 14, 1, 0, 9, 26, 45, 60, 119, ...   \n",
       "1267            US  [[[117, 115, 117, 125, 132, 146, 155, 180, 197...   \n",
       "40720           US  [[[127, 140, 170, 182, 186, 181, 142, 128, 113...   \n",
       "40722           US  [[[101, 101, 87, 76, 25, 9, 4, 0, 0, 6, 17, 57...   \n",
       "40708           US  [[[45, 16, 3, 0, 4, 16, 28, 43, 48, 54, 56, 67...   \n",
       "21362           US  [[[2, 6, 12, 20, 37, 56, 89, 113, 137, 156, 16...   \n",
       "11713           US  [[[42, 51, 119, 186, 203, 222, 227, 228, 223, ...   \n",
       "40725           US  [[[99, 108, 159, 175, 187, 190, 190, 185, 179,...   \n",
       "11712           US  [[[135, 124, 109, 80, 49, 34, 22, 6, 1, 2, 17,...   \n",
       "16373           US  [[[103, 107, 116, 131, 174, 199, 228, 248, 255...   \n",
       "7719            US  [[[25, 23, 4, 0, 0, 16, 28, 53, 86, 111, 122, ...   \n",
       "11711           US  [[[137, 151, 174, 232, 247, 255, 254, 248, 238...   \n",
       "5719            US  [[[121, 121], [107, 107]], [[130, 120, 105, 72...   \n",
       "23774           US  [[[96, 66, 51, 28, 9, 1, 1, 7, 22, 45, 68, 89,...   \n",
       "21364           US  [[[76, 52, 27, 11, 2, 1, 14, 37, 53, 87, 111, ...   \n",
       "17449           US  [[[85, 67, 40, 21, 9, 0, 3, 11, 32, 49, 80, 14...   \n",
       "27832           US  [[[93, 90, 81, 71, 46, 24, 17, 12, 11, 28, 58,...   \n",
       "19524           US  [[[23, 57, 92, 117, 137, 143, 141, 136, 129, 1...   \n",
       "\n",
       "                  key_id  recognized                   timestamp   word  \n",
       "62864   5462779043512320        True  2017-03-03 20:58:50.345020  apple  \n",
       "75559   5895401183903744        True  2017-03-21 13:59:54.322320  apple  \n",
       "72783   4812025567903744        True  2017-01-24 09:47:08.385680  apple  \n",
       "36583   5207121656283136        True  2017-01-25 01:42:01.278760  apple  \n",
       "49964   5604747190992896        True  2017-03-21 23:00:52.662940  apple  \n",
       "89968   5312519528775680        True  2017-03-27 21:27:44.916880  apple  \n",
       "114543  4855063421911040        True  2017-01-26 06:08:40.090780  apple  \n",
       "77006   5375459107799040        True  2017-01-29 16:20:28.449370  apple  \n",
       "102854  4856620817317888        True  2017-01-31 05:39:11.772440  apple  \n",
       "26597   6369143580262400        True  2017-01-23 14:53:07.736890  apple  \n",
       "41123   6326436954636288        True  2017-03-26 10:23:32.527970  apple  \n",
       "143719  6387520403144704        True  2017-01-24 12:10:41.599960  apple  \n",
       "118398  4905996562464768        True  2017-03-11 10:42:39.821680  apple  \n",
       "80900   6463496927576064        True  2017-03-09 18:06:41.489590  apple  \n",
       "21857   6201251945512960        True  2017-03-26 22:07:25.897700  apple  \n",
       "47716   5523685286871040        True  2017-03-23 23:55:58.025830  apple  \n",
       "30718   6380383220269056        True  2017-03-27 13:35:48.617540  apple  \n",
       "73929   5368471632216064        True  2017-01-23 14:36:05.069410  apple  \n",
       "50438   4993623361847296        True  2017-01-27 16:33:57.304710  apple  \n",
       "82480   6731079547355136        True  2017-03-20 17:31:41.055390  apple  \n",
       "48590   6109623700422656        True  2017-03-12 20:54:14.890350  apple  \n",
       "91062   6296637062250496        True  2017-03-28 13:38:56.261610  apple  \n",
       "78525   5189570775744512        True  2017-01-30 14:28:03.994900  apple  \n",
       "29094   6209584303702016        True  2017-01-24 20:46:40.644160  apple  \n",
       "61934   5224898085519360        True  2017-03-03 13:12:02.239960  apple  \n",
       "57507   5137234330124288        True  2017-03-27 06:38:00.464130  apple  \n",
       "118655  5459776597131264        True  2017-01-24 18:49:46.566910  apple  \n",
       "71392   5033302954082304        True  2017-01-27 12:46:03.068420  apple  \n",
       "3228    5250308923981824        True  2017-03-11 19:21:58.908370  apple  \n",
       "130248  5304637110353920        True  2017-01-24 18:15:13.422680  apple  \n",
       "...                  ...         ...                         ...    ...  \n",
       "40691   5004249375178752        True  2017-03-08 17:34:04.536860  apple  \n",
       "40692   4621551179661312        True  2017-03-02 16:39:48.946950  apple  \n",
       "29276   5179042061877248        True  2017-03-04 01:47:52.209600  apple  \n",
       "19523   5879781092491264        True  2017-03-27 15:55:19.944220  apple  \n",
       "3536    5045038683783168        True  2017-01-29 00:24:27.863390  apple  \n",
       "40707   6107829091958784        True  2017-03-27 15:32:30.002850  apple  \n",
       "32686   5898584916492288        True  2017-01-27 14:07:58.388100  apple  \n",
       "40721   5136014546829312        True  2017-01-27 02:12:04.290100  apple  \n",
       "17923   6296676589371392       False  2017-03-22 13:10:29.765300  apple  \n",
       "11716   5771959864393728        True  2017-03-16 14:25:39.610840  apple  \n",
       "40719   5621540999659520        True  2017-03-02 22:18:24.596440  apple  \n",
       "8622    5802871733878784        True  2017-03-06 03:20:21.991030  apple  \n",
       "32679   5026190416936960        True  2017-03-10 22:48:54.890480  apple  \n",
       "1267    5855934024777728        True  2017-03-24 22:50:33.494610  apple  \n",
       "40720   6497580013846528        True  2017-01-23 17:29:27.741940  apple  \n",
       "40722   4576794717978624        True  2017-03-27 16:59:33.185860  apple  \n",
       "40708   6416972168298496        True  2017-01-24 21:02:06.102180  apple  \n",
       "21362   5151976251719680        True  2017-03-05 17:50:44.994250  apple  \n",
       "11713   5013955065937920        True  2017-01-26 18:21:13.821170  apple  \n",
       "40725   4971089073537024        True  2017-03-13 12:53:44.155610  apple  \n",
       "11712   5782788483579904        True  2017-03-21 02:15:15.713070  apple  \n",
       "16373   6187330467528704        True  2017-01-26 02:27:29.859470  apple  \n",
       "7719    6207660355485696        True  2017-03-15 14:30:37.496260  apple  \n",
       "11711   5009843251314688        True  2017-03-24 12:42:31.851120  apple  \n",
       "5719    6538067760381952        True  2017-03-08 20:08:46.538720  apple  \n",
       "23774   5332756932329472        True  2017-01-30 12:19:59.459800  apple  \n",
       "21364   5101283675471872        True  2017-03-16 18:00:57.651680  apple  \n",
       "17449   5494117121392640        True  2017-03-25 18:55:10.210690  apple  \n",
       "27832   6133573578915840        True  2017-03-06 20:47:48.767780  apple  \n",
       "19524   5664117211791360        True  2017-03-12 02:29:02.084610  apple  \n",
       "\n",
       "[63025 rows x 6 columns]"
      ]
     },
     "execution_count": 53,
     "metadata": {},
     "output_type": "execute_result"
    }
   ],
   "source": [
    "#owls = owls[owls.recognized]\n",
    "#owls['timestamp'] = pd.to_datetime(owls.timestamp)\n",
    "#owls = owls.sort_values(by='timestamp', ascending=False)\n",
    "#owls['drawing'] = owls['drawing'].apply(ast.literal_eval)\n",
    "powls = mypd.sort_values(by='countrycode', ascending=False)\n",
    "x = mypd['countrycode']\n",
    "xi = mypd['countrycode']\n",
    "p=[y for y in x if y == 'US']\n",
    "powls[:len(p)]"
   ]
  },
  {
   "cell_type": "code",
   "execution_count": 10,
   "metadata": {},
   "outputs": [
    {
     "data": {
      "text/plain": [
       "144722"
      ]
     },
     "execution_count": 10,
     "metadata": {},
     "output_type": "execute_result"
    }
   ],
   "source": [
    "len(x)"
   ]
  },
  {
   "cell_type": "code",
   "execution_count": 9,
   "metadata": {},
   "outputs": [],
   "source": [
    "p=[y for y in x if y == 'ZZ']"
   ]
  },
  {
   "cell_type": "code",
   "execution_count": 11,
   "metadata": {},
   "outputs": [
    {
     "data": {
      "text/plain": [
       "102"
      ]
     },
     "execution_count": 11,
     "metadata": {},
     "output_type": "execute_result"
    }
   ],
   "source": [
    "len(p)"
   ]
  },
  {
   "cell_type": "code",
   "execution_count": 31,
   "metadata": {},
   "outputs": [
    {
     "data": {
      "text/plain": [
       "(124122, 784)"
      ]
     },
     "execution_count": 31,
     "metadata": {},
     "output_type": "execute_result"
    },
    {
     "data": {
      "text/plain": [
       "(784,)"
      ]
     },
     "execution_count": 31,
     "metadata": {},
     "output_type": "execute_result"
    }
   ],
   "source": [
    "x.shape\n",
    "x[991].shape"
   ]
  },
  {
   "cell_type": "code",
   "execution_count": 29,
   "metadata": {},
   "outputs": [
    {
     "data": {
      "text/plain": [
       "576"
      ]
     },
     "execution_count": 29,
     "metadata": {},
     "output_type": "execute_result"
    }
   ],
   "source": []
  },
  {
   "cell_type": "code",
   "execution_count": 24,
   "metadata": {},
   "outputs": [
    {
     "data": {
      "text/plain": [
       "[<matplotlib.lines.Line2D at 0x7f6b79d149e8>]"
      ]
     },
     "execution_count": 24,
     "metadata": {},
     "output_type": "execute_result"
    },
    {
     "data": {
      "image/png": "[encoded data removed]",
      "text/plain": [
       "<Figure size 432x288 with 1 Axes>"
      ]
     },
     "metadata": {},
     "output_type": "display_data"
    }
   ],
   "source": [
    "plt.plot(-x[0],lw=3)"
   ]
  },
  {
   "cell_type": "code",
   "execution_count": 7,
   "metadata": {},
   "outputs": [
    {
     "name": "stdout",
     "output_type": "stream",
     "text": [
      "1.0\n",
      "0.5\n",
      "0.3333333333333333\n"
     ]
    }
   ],
   "source": [
    "predicted=['ant','dog','cat']\n",
    "actual=['cat']\n",
    "score11 = 0.0\n",
    "num_hits = 0.0\n",
    "for i,p in enumerate(predicted):\n",
    "        if p in actual and p not in predicted[:i]:\n",
    "            num_hits += 1.0\n",
    "            score11 += num_hits / (i+1.0)\n",
    "print(score)\n",
    "print(score1)\n",
    "print(score11)"
   ]
  },
  {
   "cell_type": "code",
   "execution_count": 71,
   "metadata": {},
   "outputs": [
    {
     "data": {
      "text/plain": [
       "104995    72\n",
       "32960     50\n",
       "81268     61\n",
       "50844     18\n",
       "80381     48\n",
       "17059     41\n",
       "8638      33\n",
       "63870     50\n",
       "96542     22\n",
       "93495     23\n",
       "23589     27\n",
       "119145    20\n",
       "29732     53\n",
       "102137    83\n",
       "30174     48\n",
       "32171     49\n",
       "56030      7\n",
       "115743    64\n",
       "72799     57\n",
       "126       44\n",
       "71355     97\n",
       "89336     30\n",
       "114395    13\n",
       "118879     2\n",
       "24256     88\n",
       "70673     90\n",
       "21733      9\n",
       "27663      2\n",
       "46237     32\n",
       "84981     64\n",
       "          ..\n",
       "111601     7\n",
       "24799     34\n",
       "15451     61\n",
       "70120      6\n",
       "91109     50\n",
       "12886     86\n",
       "109013    39\n",
       "71894      0\n",
       "37199     34\n",
       "114579    43\n",
       "19448     52\n",
       "19270     27\n",
       "6488      78\n",
       "84126     71\n",
       "42799     98\n",
       "118497    43\n",
       "118390    93\n",
       "38414     26\n",
       "13217     41\n",
       "8922      72\n",
       "2284      55\n",
       "25363     79\n",
       "72895     24\n",
       "66379     79\n",
       "90733      8\n",
       "48666      0\n",
       "42025     13\n",
       "84356     53\n",
       "42965     74\n",
       "43787     50\n",
       "Name: key_id, Length: 124612, dtype: int64"
      ]
     },
     "execution_count": 71,
     "metadata": {},
     "output_type": "execute_result"
    }
   ],
   "source": [
    "(owls.key_id // 10 ** 7) % 100"
   ]
  },
  {
   "cell_type": "code",
   "execution_count": 15,
   "metadata": {},
   "outputs": [],
   "source": [
    "xlp = owls[\"drawing\"].values"
   ]
  },
  {
   "cell_type": "code",
   "execution_count": 17,
   "metadata": {},
   "outputs": [],
   "source": [
    "val = owls[\"countrycode\"].values"
   ]
  },
  {
   "cell_type": "code",
   "execution_count": 20,
   "metadata": {},
   "outputs": [
    {
     "data": {
      "text/plain": [
       "124612"
      ]
     },
     "execution_count": 20,
     "metadata": {},
     "output_type": "execute_result"
    }
   ],
   "source": [
    "len(val)"
   ]
  },
  {
   "cell_type": "code",
   "execution_count": 24,
   "metadata": {},
   "outputs": [
    {
     "data": {
      "text/plain": [
       "[[[159, 136, 127, 116, 99, 95, 108, 128, 141, 157, 163, 164, 154, 145],\n",
       "  [65, 63, 65, 72, 90, 119, 123, 123, 119, 108, 93, 72, 53, 50]],\n",
       " [[118, 85, 71, 57, 39, 39, 55, 62, 81, 89, 97, 99, 95],\n",
       "  [72, 72, 77, 86, 110, 121, 137, 140, 140, 134, 118, 81, 80]],\n",
       " [[52, 36, 21, 5, 1, 0, 8, 26, 43, 48, 47, 40, 27],\n",
       "  [86, 90, 101, 120, 131, 141, 150, 154, 154, 142, 120, 110, 102]],\n",
       " [[144, 125, 113, 109], [55, 25, 18, 25]],\n",
       " [[110, 123, 125, 117, 111, 107], [5, 16, 8, 6, 8, 18]],\n",
       " [[161, 183, 200, 220, 229], [70, 60, 46, 21, 18]],\n",
       " [[255, 235, 228, 226, 235, 240, 232, 221, 198],\n",
       "  [0, 0, 7, 14, 16, 13, 15, 28, 63]],\n",
       " [[46, 43, 43], [136, 145, 171]],\n",
       " [[80, 81], [124, 151]],\n",
       " [[113, 111], [127, 155]],\n",
       " [[138, 138], [111, 139]],\n",
       " [[125, 125], [79, 79]],\n",
       " [[137, 137], [84, 84]]]"
      ]
     },
     "execution_count": 24,
     "metadata": {},
     "output_type": "execute_result"
    }
   ],
   "source": [
    "xlp[0]"
   ]
  },
  {
   "cell_type": "code",
   "execution_count": 25,
   "metadata": {},
   "outputs": [
    {
     "data": {
      "text/plain": [
       "[[[159, 136, 127, 116, 99, 95, 108, 128, 141, 157, 163, 164, 154, 145],\n",
       "  [65, 63, 65, 72, 90, 119, 123, 123, 119, 108, 93, 72, 53, 50]],\n",
       " [[118, 85, 71, 57, 39, 39, 55, 62, 81, 89, 97, 99, 95],\n",
       "  [72, 72, 77, 86, 110, 121, 137, 140, 140, 134, 118, 81, 80]],\n",
       " [[52, 36, 21, 5, 1, 0, 8, 26, 43, 48, 47, 40, 27],\n",
       "  [86, 90, 101, 120, 131, 141, 150, 154, 154, 142, 120, 110, 102]],\n",
       " [[144, 125, 113, 109], [55, 25, 18, 25]],\n",
       " [[110, 123, 125, 117, 111, 107], [5, 16, 8, 6, 8, 18]],\n",
       " [[161, 183, 200, 220, 229], [70, 60, 46, 21, 18]],\n",
       " [[255, 235, 228, 226, 235, 240, 232, 221, 198],\n",
       "  [0, 0, 7, 14, 16, 13, 15, 28, 63]],\n",
       " [[46, 43, 43], [136, 145, 171]],\n",
       " [[80, 81], [124, 151]],\n",
       " [[113, 111], [127, 155]],\n",
       " [[138, 138], [111, 139]],\n",
       " [[125, 125], [79, 79]],\n",
       " [[137, 137], [84, 84]]]"
      ]
     },
     "execution_count": 25,
     "metadata": {},
     "output_type": "execute_result"
    }
   ],
   "source": [
    "[[[159, 136, 127, 116, 99, 95, 108, 128, 141, 157, 163, 164, 154, 145],\n",
    "  [65, 63, 65, 72, 90, 119, 123, 123, 119, 108, 93, 72, 53, 50]],\n",
    " [[118, 85, 71, 57, 39, 39, 55, 62, 81, 89, 97, 99, 95],\n",
    "  [72, 72, 77, 86, 110, 121, 137, 140, 140, 134, 118, 81, 80]],\n",
    " [[52, 36, 21, 5, 1, 0, 8, 26, 43, 48, 47, 40, 27],\n",
    "  [86, 90, 101, 120, 131, 141, 150, 154, 154, 142, 120, 110, 102]],\n",
    " [[144, 125, 113, 109], [55, 25, 18, 25]],\n",
    " [[110, 123, 125, 117, 111, 107], [5, 16, 8, 6, 8, 18]],\n",
    " [[161, 183, 200, 220, 229], [70, 60, 46, 21, 18]],\n",
    " [[255, 235, 228, 226, 235, 240, 232, 221, 198],\n",
    "  [0, 0, 7, 14, 16, 13, 15, 28, 63]],\n",
    " [[46, 43, 43], [136, 145, 171]],\n",
    " [[80, 81], [124, 151]],\n",
    " [[113, 111], [127, 155]],\n",
    " [[138, 138], [111, 139]],\n",
    " [[125, 125], [79, 79]],\n",
    " [[137, 137], [84, 84]]]\n",
    "\n"
   ]
  },
  {
   "cell_type": "code",
   "execution_count": 35,
   "metadata": {},
   "outputs": [
    {
     "data": {
      "text/plain": [
       "[<matplotlib.lines.Line2D at 0x7f284c49f828>]"
      ]
     },
     "execution_count": 35,
     "metadata": {},
     "output_type": "execute_result"
    },
    {
     "data": {
      "text/plain": [
       "[<matplotlib.lines.Line2D at 0x7f284c49fda0>]"
      ]
     },
     "execution_count": 35,
     "metadata": {},
     "output_type": "execute_result"
    },
    {
     "data": {
      "text/plain": [
       "[<matplotlib.lines.Line2D at 0x7f284ced33c8>]"
      ]
     },
     "execution_count": 35,
     "metadata": {},
     "output_type": "execute_result"
    },
    {
     "data": {
      "text/plain": [
       "[<matplotlib.lines.Line2D at 0x7f284ced3550>]"
      ]
     },
     "execution_count": 35,
     "metadata": {},
     "output_type": "execute_result"
    },
    {
     "data": {
      "text/plain": [
       "[<matplotlib.lines.Line2D at 0x7f284ced3978>]"
      ]
     },
     "execution_count": 35,
     "metadata": {},
     "output_type": "execute_result"
    },
    {
     "data": {
      "text/plain": [
       "[<matplotlib.lines.Line2D at 0x7f284ced3e48>]"
      ]
     },
     "execution_count": 35,
     "metadata": {},
     "output_type": "execute_result"
    },
    {
     "data": {
      "text/plain": [
       "[<matplotlib.lines.Line2D at 0x7f284cea04e0>]"
      ]
     },
     "execution_count": 35,
     "metadata": {},
     "output_type": "execute_result"
    },
    {
     "data": {
      "text/plain": [
       "[<matplotlib.lines.Line2D at 0x7f284cea0748>]"
      ]
     },
     "execution_count": 35,
     "metadata": {},
     "output_type": "execute_result"
    },
    {
     "data": {
      "text/plain": [
       "[<matplotlib.lines.Line2D at 0x7f284cea0be0>]"
      ]
     },
     "execution_count": 35,
     "metadata": {},
     "output_type": "execute_result"
    },
    {
     "data": {
      "text/plain": [
       "[<matplotlib.lines.Line2D at 0x7f284cec6080>]"
      ]
     },
     "execution_count": 35,
     "metadata": {},
     "output_type": "execute_result"
    },
    {
     "data": {
      "text/plain": [
       "[<matplotlib.lines.Line2D at 0x7f284cec64a8>]"
      ]
     },
     "execution_count": 35,
     "metadata": {},
     "output_type": "execute_result"
    },
    {
     "data": {
      "text/plain": [
       "(-12.75, 267.75, -165.9, 7.9)"
      ]
     },
     "execution_count": 35,
     "metadata": {},
     "output_type": "execute_result"
    },
    {
     "data": {
      "text/plain": [
       "[<matplotlib.lines.Line2D at 0x7f284cec6a90>]"
      ]
     },
     "execution_count": 35,
     "metadata": {},
     "output_type": "execute_result"
    },
    {
     "data": {
      "text/plain": [
       "[<matplotlib.lines.Line2D at 0x7f284cec6f98>]"
      ]
     },
     "execution_count": 35,
     "metadata": {},
     "output_type": "execute_result"
    },
    {
     "data": {
      "text/plain": [
       "[<matplotlib.lines.Line2D at 0x7f284cea7208>]"
      ]
     },
     "execution_count": 35,
     "metadata": {},
     "output_type": "execute_result"
    },
    {
     "data": {
      "text/plain": [
       "[<matplotlib.lines.Line2D at 0x7f284cea7630>]"
      ]
     },
     "execution_count": 35,
     "metadata": {},
     "output_type": "execute_result"
    },
    {
     "data": {
      "text/plain": [
       "[<matplotlib.lines.Line2D at 0x7f284cea7a58>]"
      ]
     },
     "execution_count": 35,
     "metadata": {},
     "output_type": "execute_result"
    },
    {
     "data": {
      "text/plain": [
       "[<matplotlib.lines.Line2D at 0x7f284cea7f60>]"
      ]
     },
     "execution_count": 35,
     "metadata": {},
     "output_type": "execute_result"
    },
    {
     "data": {
      "text/plain": [
       "[<matplotlib.lines.Line2D at 0x7f284cec06a0>]"
      ]
     },
     "execution_count": 35,
     "metadata": {},
     "output_type": "execute_result"
    },
    {
     "data": {
      "text/plain": [
       "[<matplotlib.lines.Line2D at 0x7f284cec07f0>]"
      ]
     },
     "execution_count": 35,
     "metadata": {},
     "output_type": "execute_result"
    },
    {
     "data": {
      "text/plain": [
       "[<matplotlib.lines.Line2D at 0x7f284cec0e10>]"
      ]
     },
     "execution_count": 35,
     "metadata": {},
     "output_type": "execute_result"
    },
    {
     "data": {
      "text/plain": [
       "[<matplotlib.lines.Line2D at 0x7f284c4d9278>]"
      ]
     },
     "execution_count": 35,
     "metadata": {},
     "output_type": "execute_result"
    },
    {
     "data": {
      "text/plain": [
       "[<matplotlib.lines.Line2D at 0x7f284ceb2898>]"
      ]
     },
     "execution_count": 35,
     "metadata": {},
     "output_type": "execute_result"
    },
    {
     "data": {
      "text/plain": [
       "[<matplotlib.lines.Line2D at 0x7f284ceb29b0>]"
      ]
     },
     "execution_count": 35,
     "metadata": {},
     "output_type": "execute_result"
    },
    {
     "data": {
      "text/plain": [
       "[<matplotlib.lines.Line2D at 0x7f284ceb2e10>]"
      ]
     },
     "execution_count": 35,
     "metadata": {},
     "output_type": "execute_result"
    },
    {
     "data": {
      "text/plain": [
       "[<matplotlib.lines.Line2D at 0x7f284cebc550>]"
      ]
     },
     "execution_count": 35,
     "metadata": {},
     "output_type": "execute_result"
    },
    {
     "data": {
      "text/plain": [
       "[<matplotlib.lines.Line2D at 0x7f284cebc978>]"
      ]
     },
     "execution_count": 35,
     "metadata": {},
     "output_type": "execute_result"
    },
    {
     "data": {
      "text/plain": [
       "(-12.75, 267.75, -165.9, 7.9)"
      ]
     },
     "execution_count": 35,
     "metadata": {},
     "output_type": "execute_result"
    },
    {
     "data": {
      "image/png": "[encoded data removed]",
      "text/plain": [
       "<Figure size 432x288 with 1 Axes>"
      ]
     },
     "metadata": {},
     "output_type": "display_data"
    }
   ],
   "source": [
    "for drawing in xlp[2:4]:\n",
    "    for x, y in drawing:\n",
    "        plt.plot(x, -np.array(y), lw=3)\n",
    "    plt.axis('off')"
   ]
  },
  {
   "cell_type": "code",
   "execution_count": 38,
   "metadata": {},
   "outputs": [],
   "source": [
    "country = owls[\"countrycode\"].values"
   ]
  },
  {
   "cell_type": "code",
   "execution_count": 39,
   "metadata": {},
   "outputs": [],
   "source": [
    "cou = []\n",
    "for asp in country:\n",
    "    if asp not in cou:\n",
    "        cou.append(asp)"
   ]
  },
  {
   "cell_type": "code",
   "execution_count": 49,
   "metadata": {},
   "outputs": [
    {
     "name": "stdout",
     "output_type": "stream",
     "text": [
      "US = 58424\n",
      "CA = 4654\n",
      "AU = 2926\n",
      "EG = 195\n",
      "ES = 449\n",
      "AR = 299\n",
      "RU = 2476\n",
      "GB = 7935\n",
      "SG = 474\n",
      "FR = 1415\n",
      "DK = 408\n",
      "VN = 988\n",
      "KR = 2286\n",
      "PL = 1703\n",
      "NO = 577\n",
      "PH = 1585\n",
      "PT = 432\n",
      "MX = 430\n",
      "SE = 2001\n",
      "NZ = 555\n",
      "SA = 1449\n",
      "MA = 89\n",
      "DE = 3427\n",
      "UA = 606\n",
      "IT = 1882\n",
      "AE = 770\n",
      "IN = 969\n",
      "BY = 141\n",
      "BR = 2280\n",
      "NL = 1210\n",
      "RS = 471\n",
      "HU = 1301\n",
      "IL = 297\n",
      "LT = 209\n",
      "CO = 172\n",
      "MD = 56\n",
      "RO = 898\n",
      "ZA = 279\n",
      "FI = 1741\n",
      "BB = 6\n",
      "GR = 185\n",
      "IS = 61\n",
      "IE = 532\n",
      "SK = 754\n",
      "JO = 142\n",
      "CL = 160\n",
      "AL = 29\n",
      "ZZ = 104\n",
      "AW = 7\n",
      "TH = 1913\n",
      "QA = 155\n",
      "BE = 326\n",
      "HK = 575\n",
      "DZ = 179\n",
      "MY = 740\n",
      "CZ = 1826\n",
      "BG = 458\n",
      "ID = 996\n",
      "CY = 36\n",
      "UY = 32\n",
      "LV = 187\n",
      "PK = 137\n",
      "TR = 533\n",
      "AZ = 24\n",
      "TW = 901\n",
      "HR = 508\n",
      "KZ = 184\n",
      "PR = 65\n",
      "BA = 259\n",
      "EE = 221\n",
      "GE = 57\n",
      "MS = 3\n",
      "PE = 96\n",
      "IQ = 197\n",
      "CR = 30\n",
      "AT = 424\n",
      "JM = 9\n",
      "CN = 16\n",
      "MM = 11\n",
      "BH = 93\n",
      "BN = 40\n",
      "JP = 857\n",
      "CH = 396\n",
      "SI = 138\n",
      "MU = 17\n",
      "KH = 160\n",
      "YE = 2\n",
      "MV = 23\n",
      "RE = 21\n",
      "BD = 58\n",
      "NP = 39\n",
      "LB = 45\n",
      "MP = 11\n",
      "BZ = 3\n",
      "NI = 7\n",
      "PA = 27\n",
      "TC = 2\n",
      "GY = 4\n",
      "GU = 27\n",
      "EC = 55\n",
      "TN = 42\n",
      "KW = 190\n",
      "VE = 45\n",
      "MK = 79\n",
      "JE = 10\n",
      "HN = 30\n",
      "PY = 14\n",
      "MO = 21\n",
      "OM = 76\n",
      "AM = 33\n",
      "UZ = 12\n",
      "AX = 11\n",
      "FO = 5\n",
      "KE = 20\n",
      "LU = 45\n",
      "MN = 21\n",
      "MH = 1\n",
      "FJ = 1\n",
      "BS = 13\n",
      "AG = 2\n",
      "BM = 6\n",
      "KG = 17\n",
      "GT = 20\n",
      "ME = 24\n",
      "DO = 25\n",
      "SO = 4\n",
      "MW = 1\n",
      "SC = 2\n",
      "GI = 4\n",
      "MT = 34\n",
      "LA = 6\n",
      "PS = 52\n",
      "PG = 1\n",
      "NC = 5\n",
      "MR = 1\n",
      "SV = 17\n",
      "GF = 2\n",
      "DM = 5\n",
      "TT = 24\n",
      "BO = 6\n",
      "LK = 17\n",
      "IM = 4\n",
      "ZW = 3\n",
      "GG = 13\n",
      "BW = 4\n",
      "nan = 0\n",
      "AF = 2\n",
      "GP = 6\n",
      "RW = 3\n",
      "TZ = 3\n",
      "LY = 10\n",
      "CM = 1\n",
      "NG = 3\n",
      "MC = 1\n",
      "SN = 1\n",
      "PF = 2\n",
      "AO = 3\n",
      "PM = 1\n",
      "SM = 3\n",
      "SR = 5\n",
      "GD = 1\n",
      "KY = 9\n",
      "GH = 2\n",
      "CW = 4\n",
      "LI = 1\n",
      "FM = 2\n",
      "AI = 1\n",
      "VG = 1\n",
      "SX = 1\n",
      "UG = 1\n",
      "GA = 2\n",
      "CV = 1\n",
      "MG = 1\n",
      "BU = 1\n",
      "AD = 1\n",
      "KN = 1\n",
      "TM = 1\n",
      "AN = 1\n",
      "MQ = 1\n"
     ]
    }
   ],
   "source": [
    "llist=[]\n",
    "for pio in cou:\n",
    "    poiu=0\n",
    "    for xcv in country:\n",
    "        if xcv==pio:\n",
    "            poiu=poiu+1\n",
    "    llist.append(poiu)\n",
    "    print(f'{pio} = {poiu}')"
   ]
  },
  {
   "cell_type": "code",
   "execution_count": 67,
   "metadata": {},
   "outputs": [],
   "source": [
    "qwe = [xcv for xcv in llist if xcv > 200]"
   ]
  },
  {
   "cell_type": "code",
   "execution_count": 68,
   "metadata": {},
   "outputs": [
    {
     "data": {
      "text/plain": [
       "51"
      ]
     },
     "execution_count": 68,
     "metadata": {},
     "output_type": "execute_result"
    }
   ],
   "source": [
    "len(qwe)"
   ]
  },
  {
   "cell_type": "code",
   "execution_count": 42,
   "metadata": {},
   "outputs": [
    {
     "data": {
      "text/plain": [
       "(179, 124612)"
      ]
     },
     "execution_count": 42,
     "metadata": {},
     "output_type": "execute_result"
    }
   ],
   "source": [
    "len(cou),len(country)"
   ]
  },
  {
   "cell_type": "code",
   "execution_count": 43,
   "metadata": {},
   "outputs": [],
   "source": [
    "#p = [len(drawing[x])  for x in range(100)]"
   ]
  },
  {
   "cell_type": "code",
   "execution_count": 138,
   "metadata": {},
   "outputs": [
    {
     "data": {
      "text/plain": [
       "6"
      ]
     },
     "execution_count": 138,
     "metadata": {},
     "output_type": "execute_result"
    }
   ],
   "source": [
    "p[0]"
   ]
  },
  {
   "cell_type": "code",
   "execution_count": 139,
   "metadata": {},
   "outputs": [
    {
     "data": {
      "text/plain": [
       "[43, 59]"
      ]
     },
     "execution_count": 139,
     "metadata": {},
     "output_type": "execute_result"
    }
   ],
   "source": [
    "[x for x in range(100) if p[x] > 15]"
   ]
  },
  {
   "cell_type": "code",
   "execution_count": 143,
   "metadata": {
    "_uuid": "cc337c00d0509b1b97fc27eb93da003c4e5db2d5"
   },
   "outputs": [
    {
     "ename": "IndexError",
     "evalue": "index 5 is out of bounds for axis 0 with size 5",
     "output_type": "error",
     "traceback": [
      "\u001b[0;31m---------------------------------------------------------------------------\u001b[0m",
      "\u001b[0;31mIndexError\u001b[0m                                Traceback (most recent call last)",
      "\u001b[0;32m<ipython-input-143-1c9ac67e9655>\u001b[0m in \u001b[0;36m<module>\u001b[0;34m()\u001b[0m\n\u001b[1;32m      2\u001b[0m \u001b[0mfig\u001b[0m\u001b[0;34m,\u001b[0m \u001b[0maxs\u001b[0m \u001b[0;34m=\u001b[0m \u001b[0mplt\u001b[0m\u001b[0;34m.\u001b[0m\u001b[0msubplots\u001b[0m\u001b[0;34m(\u001b[0m\u001b[0mnrows\u001b[0m\u001b[0;34m=\u001b[0m\u001b[0;36m5\u001b[0m\u001b[0;34m,\u001b[0m \u001b[0mncols\u001b[0m\u001b[0;34m=\u001b[0m\u001b[0mn\u001b[0m\u001b[0;34m,\u001b[0m \u001b[0msharex\u001b[0m\u001b[0;34m=\u001b[0m\u001b[0;32mTrue\u001b[0m\u001b[0;34m,\u001b[0m \u001b[0msharey\u001b[0m\u001b[0;34m=\u001b[0m\u001b[0;32mTrue\u001b[0m\u001b[0;34m,\u001b[0m \u001b[0mfigsize\u001b[0m\u001b[0;34m=\u001b[0m\u001b[0;34m(\u001b[0m\u001b[0;36m16\u001b[0m\u001b[0;34m,\u001b[0m \u001b[0;36m10\u001b[0m\u001b[0;34m)\u001b[0m\u001b[0;34m)\u001b[0m\u001b[0;34m\u001b[0m\u001b[0m\n\u001b[1;32m      3\u001b[0m \u001b[0;32mfor\u001b[0m \u001b[0mi\u001b[0m\u001b[0;34m,\u001b[0m \u001b[0mdrawing\u001b[0m \u001b[0;32min\u001b[0m \u001b[0menumerate\u001b[0m\u001b[0;34m(\u001b[0m\u001b[0mowls\u001b[0m\u001b[0;34m.\u001b[0m\u001b[0mdrawing\u001b[0m\u001b[0;34m)\u001b[0m\u001b[0;34m:\u001b[0m\u001b[0;34m\u001b[0m\u001b[0m\n\u001b[0;32m----> 4\u001b[0;31m     \u001b[0max\u001b[0m \u001b[0;34m=\u001b[0m \u001b[0maxs\u001b[0m\u001b[0;34m[\u001b[0m\u001b[0mi\u001b[0m \u001b[0;34m//\u001b[0m \u001b[0mn\u001b[0m\u001b[0;34m,\u001b[0m \u001b[0mi\u001b[0m \u001b[0;34m%\u001b[0m \u001b[0mn\u001b[0m\u001b[0;34m]\u001b[0m\u001b[0;34m\u001b[0m\u001b[0m\n\u001b[0m\u001b[1;32m      5\u001b[0m     \u001b[0;32mfor\u001b[0m \u001b[0mx\u001b[0m\u001b[0;34m,\u001b[0m \u001b[0my\u001b[0m \u001b[0;32min\u001b[0m \u001b[0mdrawing\u001b[0m\u001b[0;34m:\u001b[0m\u001b[0;34m\u001b[0m\u001b[0m\n\u001b[1;32m      6\u001b[0m         \u001b[0max\u001b[0m\u001b[0;34m.\u001b[0m\u001b[0mplot\u001b[0m\u001b[0;34m(\u001b[0m\u001b[0mx\u001b[0m\u001b[0;34m,\u001b[0m \u001b[0;34m-\u001b[0m\u001b[0mnp\u001b[0m\u001b[0;34m.\u001b[0m\u001b[0marray\u001b[0m\u001b[0;34m(\u001b[0m\u001b[0my\u001b[0m\u001b[0;34m)\u001b[0m\u001b[0;34m,\u001b[0m \u001b[0mlw\u001b[0m\u001b[0;34m=\u001b[0m\u001b[0;36m3\u001b[0m\u001b[0;34m)\u001b[0m\u001b[0;34m\u001b[0m\u001b[0m\n",
      "\u001b[0;31mIndexError\u001b[0m: index 5 is out of bounds for axis 0 with size 5"
     ]
    },
    {
     "data": {
      "image/png": "[encoded data removed]",
      "text/plain": [
       "<Figure size 1152x720 with 25 Axes>"
      ]
     },
     "metadata": {},
     "output_type": "display_data"
    }
   ],
   "source": [
    "n = 5\n",
    "fig, axs = plt.subplots(nrows=5, ncols=n, sharex=True, sharey=True, figsize=(16, 10))\n",
    "for i, drawing in enumerate(owls.drawing):\n",
    "    ax = axs[i // n, i % n]\n",
    "    for x, y in drawing:\n",
    "        ax.plot(x, -np.array(y), lw=3)\n",
    "    ax.axis('off')\n",
    "fig.savefig('owls.png', dpi=200)\n",
    "plt.show();"
   ]
  },
  {
   "cell_type": "markdown",
   "metadata": {
    "_uuid": "a1ca9c950d3860e88f2529806fbfe228e171acf3"
   },
   "source": [
    "# Step 1 - Create baseline model"
   ]
  },
  {
   "cell_type": "code",
   "execution_count": null,
   "metadata": {
    "_uuid": "ac08165760c73d6253993c3f2b906455d6712304"
   },
   "outputs": [],
   "source": [
    "submission = pd.read_csv('../input/sample_submission.csv')\n",
    "submission.shape\n",
    "\n",
    "submission['word'] = 'owl owl owl'\n",
    "submission.to_csv('submission_owl.csv', index=False)\n",
    "submission.head()"
   ]
  },
  {
   "cell_type": "markdown",
   "metadata": {
    "_uuid": "3a0555462a64f8eda0e878dde96cc1f731798516"
   },
   "source": [
    "# Step 2 - Train a Neural Network\n",
    "\n",
    "..."
   ]
  },
  {
   "cell_type": "code",
   "execution_count": null,
   "metadata": {
    "_kg_hide-input": true,
    "_kg_hide-output": true,
    "_uuid": "eb4746eb3cbc23868d7c22bbdbab298456ea9a4a"
   },
   "outputs": [],
   "source": [
    "target = [\n",
    "    'owl',\n",
    "    'owl',\n",
    "]"
   ]
  },
  {
   "cell_type": "markdown",
   "metadata": {
    "_uuid": "a65d78aeb665294223b7b9cd7c1d7d81c0f959dd"
   },
   "source": [
    "# Step 3 - Profit"
   ]
  },
  {
   "cell_type": "code",
   "execution_count": null,
   "metadata": {
    "_uuid": "798aae80897ced48ee8c0c99b2c237aca0efa11f"
   },
   "outputs": [],
   "source": [
    "end = dt.datetime.now()\n",
    "print('Latest run {}.\\nTotal time {}s'.format(end, (end - start).seconds))"
   ]
  }
 ],
 "metadata": {
  "kernelspec": {
   "display_name": "Python 3",
   "language": "python",
   "name": "python3"
  },
  "language_info": {
   "codemirror_mode": {
    "name": "ipython",
    "version": 3
   },
   "file_extension": ".py",
   "mimetype": "text/x-python",
   "name": "python",
   "nbconvert_exporter": "python",
   "pygments_lexer": "ipython3",
   "version": "3.6.5"
  }
 },
 "nbformat": 4,
 "nbformat_minor": 2
}
