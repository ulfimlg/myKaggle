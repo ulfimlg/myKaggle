{
 "cells": [
  {
   "cell_type": "code",
   "execution_count": 1,
   "metadata": {},
   "outputs": [
    {
     "name": "stdout",
     "output_type": "stream",
     "text": [
      "34_10.log\t\t      mylog_new.log\n",
      "Copy1.ipynb\t\t      __pycache__\n",
      "data\t\t\t      quickdraw\n",
      "dataloader.py\t\t      README.md\n",
      "datalog.log\t\t      resnet152_quickdraw.py\n",
      "data_preparation-Copy1.ipynb  resnet34.py\n",
      "data_preparation.ipynb\t      subs\n",
      "ensamble\t\t      subs152\n",
      "first_submission.ipynb\t      test.log\n",
      "first_submission_new.ipynb    test.py\n",
      "models\t\t\t      Untitled.ipynb\n",
      "mylog.log\t\t      utils.py\n"
     ]
    }
   ],
   "source": [
    "!ls"
   ]
  },
  {
   "cell_type": "code",
   "execution_count": null,
   "metadata": {},
   "outputs": [],
   "source": [
    "#this is for quickdraw##################################################zz\n",
    "\n",
    "import csv\n",
    "\n",
    "sub_files = ['ensamble/gs_mn_submission_8627.csv',\n",
    "             'ensamble/submission_densenet_two.csv',\n",
    "             '../input/submission_densenet.csv']\n",
    "\n",
    "## Weights of the individual subs ##\n",
    "sub_weight = [1.75, 1.45, 1.2]\n",
    "\n",
    "place_weights = {}\n",
    "for i in range(3):\n",
    "    place_weights[i] = 10-i*2\n",
    "\n",
    "Hlabel = 'key_id'\n",
    "Htarget = 'word'\n",
    "\n",
    "lg = len(sub_files)\n",
    "sub = [None]*lg\n",
    "for i, file in enumerate( sub_files ):\n",
    "    ## input files ##\n",
    "    print(\"Reading {}: w={} - {}\". format(i, sub_weight[i], file))\n",
    "    reader = csv.DictReader(open(file,\"r\"))\n",
    "    sub[i] = sorted(reader, key=lambda d: float(d[Hlabel]))\n",
    "\n",
    "## output file ##\n",
    "out = open(\"sub_ens.csv\", \"w\", newline='')\n",
    "writer = csv.writer(out)\n",
    "writer.writerow([Hlabel,Htarget])\n",
    "p=0\n",
    "for row in sub[0]:\n",
    "    target_weight = {}\n",
    "    for s in range(lg):\n",
    "        row1 = sub[s][p]\n",
    "        for ind, trgt in enumerate(row1[Htarget].split(' ')):\n",
    "            target_weight[trgt] = target_weight.get(trgt,0) + (place_weights[ind]*sub_weight[s])\n",
    "    tops_trgt = sorted(target_weight, key=target_weight.get, reverse=True)[:3]\n",
    "    writer.writerow([row1[Hlabel], \" \".join(tops_trgt)])\n",
    "    p+=1\n",
    "out.close()"
   ]
  }
 ],
 "metadata": {
  "kernelspec": {
   "display_name": "Python 3",
   "language": "python",
   "name": "python3"
  },
  "language_info": {
   "codemirror_mode": {
    "name": "ipython",
    "version": 3
   },
   "file_extension": ".py",
   "mimetype": "text/x-python",
   "name": "python",
   "nbconvert_exporter": "python",
   "pygments_lexer": "ipython3",
   "version": "3.6.5"
  }
 },
 "nbformat": 4,
 "nbformat_minor": 2
}
